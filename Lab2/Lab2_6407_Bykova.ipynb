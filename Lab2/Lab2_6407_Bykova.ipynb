{
  "cells": [
    {
      "cell_type": "code",
      "execution_count": 1,
      "id": "6cacc875-6669-47b9-a54a-8493bcdfbf90",
      "metadata": {
        "id": "6cacc875-6669-47b9-a54a-8493bcdfbf90"
      },
      "outputs": [],
      "source": [
        "!apt-get install openjdk-8-jdk-headless -qq > /dev/null\n",
        "!wget -q http://archive.apache.org/dist/spark/spark-3.1.1/spark-3.1.1-bin-hadoop3.2.tgz\n",
        "!tar xf spark-3.1.1-bin-hadoop3.2.tgz"
      ]
    },
    {
      "cell_type": "code",
      "execution_count": 2,
      "id": "86b3dc77-c86f-4ec1-86d5-196ec60591f7",
      "metadata": {
        "id": "86b3dc77-c86f-4ec1-86d5-196ec60591f7"
      },
      "outputs": [],
      "source": [
        "import os\n",
        "os.environ[\"SPARK_HOME\"] = \"/content/spark-3.1.1-bin-hadoop3.2\"\n",
        "os.environ[\"JAVA_HOME\"] = \"/usr/lib/jvm/java-8-openjdk-amd64\""
      ]
    },
    {
      "cell_type": "code",
      "execution_count": 3,
      "id": "dfc5f6cd-579e-45c8-8236-0f79ecf05f4c",
      "metadata": {
        "colab": {
          "base_uri": "https://localhost:8080/"
        },
        "id": "dfc5f6cd-579e-45c8-8236-0f79ecf05f4c",
        "outputId": "50824448-6b1f-449f-f6d9-8441185c0515"
      },
      "outputs": [
        {
          "output_type": "stream",
          "name": "stdout",
          "text": [
            "Collecting findspark\n",
            "  Downloading findspark-2.0.1-py2.py3-none-any.whl (4.4 kB)\n",
            "Installing collected packages: findspark\n",
            "Successfully installed findspark-2.0.1\n"
          ]
        }
      ],
      "source": [
        "!pip install findspark"
      ]
    },
    {
      "cell_type": "code",
      "source": [
        "import findspark\n",
        "findspark.init()"
      ],
      "metadata": {
        "id": "Itkia5eQFz7g"
      },
      "id": "Itkia5eQFz7g",
      "execution_count": 4,
      "outputs": []
    },
    {
      "cell_type": "code",
      "source": [
        "!pip3 install pyspark==3.0.0"
      ],
      "metadata": {
        "colab": {
          "base_uri": "https://localhost:8080/"
        },
        "id": "fGoaBYsLF2-c",
        "outputId": "7e9dbb8d-5049-4c9c-fc22-20cac7701e08"
      },
      "id": "fGoaBYsLF2-c",
      "execution_count": 5,
      "outputs": [
        {
          "output_type": "stream",
          "name": "stdout",
          "text": [
            "Collecting pyspark==3.0.0\n",
            "  Downloading pyspark-3.0.0.tar.gz (204.7 MB)\n",
            "\u001b[2K     \u001b[90m━━━━━━━━━━━━━━━━━━━━━━━━━━━━━━━━━━━━━━━━\u001b[0m \u001b[32m204.7/204.7 MB\u001b[0m \u001b[31m5.8 MB/s\u001b[0m eta \u001b[36m0:00:00\u001b[0m\n",
            "\u001b[?25h  Preparing metadata (setup.py) ... \u001b[?25l\u001b[?25hdone\n",
            "Collecting py4j==0.10.9 (from pyspark==3.0.0)\n",
            "  Downloading py4j-0.10.9-py2.py3-none-any.whl (198 kB)\n",
            "\u001b[2K     \u001b[90m━━━━━━━━━━━━━━━━━━━━━━━━━━━━━━━━━━━━━━━━\u001b[0m \u001b[32m198.6/198.6 kB\u001b[0m \u001b[31m16.7 MB/s\u001b[0m eta \u001b[36m0:00:00\u001b[0m\n",
            "\u001b[?25hBuilding wheels for collected packages: pyspark\n",
            "  Building wheel for pyspark (setup.py) ... \u001b[?25l\u001b[?25hdone\n",
            "  Created wheel for pyspark: filename=pyspark-3.0.0-py2.py3-none-any.whl size=205044159 sha256=a91d560c6dd5ece447ba2abe997862d21ab769a4ba31c29f259dbbc157e7ee7d\n",
            "  Stored in directory: /root/.cache/pip/wheels/b1/bb/8b/ca24d3f756f2ed967225b0871898869db676eb5846df5adc56\n",
            "Successfully built pyspark\n",
            "Installing collected packages: py4j, pyspark\n",
            "  Attempting uninstall: py4j\n",
            "    Found existing installation: py4j 0.10.9.7\n",
            "    Uninstalling py4j-0.10.9.7:\n",
            "      Successfully uninstalled py4j-0.10.9.7\n",
            "Successfully installed py4j-0.10.9 pyspark-3.0.0\n"
          ]
        }
      ]
    },
    {
      "cell_type": "code",
      "source": [
        "# Инициализация\n",
        "\n",
        "from pyspark import SparkContext, SparkConf\n",
        "from pyspark.sql import SparkSession\n",
        "from pyspark.sql.window import Window\n",
        "from pyspark.sql.types import DoubleType, IntegerType, ArrayType, StringType\n",
        "from pyspark.sql.functions import udf, explode, rank, col, max, sum, desc, countDistinct\n",
        "import re\n",
        "from typing import List\n",
        "import pyspark.sql as sql\n",
        "\n",
        "spark = SparkSession \\\n",
        "    .builder \\\n",
        "    .appName(\"Lab2_6407_Bykova\") \\\n",
        "    .config(\"spark.jars.packages\", \"com.databricks:spark-xml_2.12:0.13.0\") \\\n",
        "    .getOrCreate()"
      ],
      "metadata": {
        "id": "zjaJLhUOGCoI"
      },
      "id": "zjaJLhUOGCoI",
      "execution_count": 6,
      "outputs": []
    },
    {
      "cell_type": "code",
      "source": [
        "# Загрузка данных\n",
        "\n",
        "import os\n",
        "prog_path = '/content/programming-languages.csv'\n",
        "posts_path = '/content/posts_sample.xml'\n",
        "\n",
        "posts = spark.read.format('xml').options(rowTag='row').load(posts_path)\n",
        "\n",
        "\n",
        "program = spark.read \\\n",
        "      .option(\"header\", True) \\\n",
        "      .option(\"inferSchema\", True) \\\n",
        "      .option(\"DateTimeFormat\", 'M/d/y H:m') \\\n",
        "      .csv(prog_path)"
      ],
      "metadata": {
        "id": "qwoy5A-BGIls"
      },
      "id": "qwoy5A-BGIls",
      "execution_count": 8,
      "outputs": []
    },
    {
      "cell_type": "markdown",
      "source": [
        "**ЗАДАНИЕ**\n",
        "\n",
        "Сформировать отчёт с информацией о 10 наиболее популярных языках программирования по итогам года за период с 2010 по 2020 годы. Отчёт будет отражать динамику изменения популярности языков программирования и представлять собой набор таблиц \"топ-10\" для каждого года.\n",
        "\n",
        "Получившийся отчёт сохранить в формате Apache Parquet.\n",
        "\n",
        "Для выполнения задания вы можете использовать любую комбинацию Spark API: RDD API, Dataset API, SQL API."
      ],
      "metadata": {
        "id": "Gj5BUd5JFTfC"
      },
      "id": "Gj5BUd5JFTfC"
    },
    {
      "cell_type": "code",
      "execution_count": 9,
      "id": "9a186d9b-a784-4b22-ae41-903cbf438502",
      "metadata": {
        "colab": {
          "base_uri": "https://localhost:8080/"
        },
        "id": "9a186d9b-a784-4b22-ae41-903cbf438502",
        "outputId": "a6856bd9-b866-4043-e60e-1db6f222c59d"
      },
      "outputs": [
        {
          "output_type": "stream",
          "name": "stdout",
          "text": [
            "root\n",
            " |-- _AcceptedAnswerId: long (nullable = true)\n",
            " |-- _AnswerCount: long (nullable = true)\n",
            " |-- _Body: string (nullable = true)\n",
            " |-- _ClosedDate: timestamp (nullable = true)\n",
            " |-- _CommentCount: long (nullable = true)\n",
            " |-- _CommunityOwnedDate: timestamp (nullable = true)\n",
            " |-- _CreationDate: timestamp (nullable = true)\n",
            " |-- _FavoriteCount: long (nullable = true)\n",
            " |-- _Id: long (nullable = true)\n",
            " |-- _LastActivityDate: timestamp (nullable = true)\n",
            " |-- _LastEditDate: timestamp (nullable = true)\n",
            " |-- _LastEditorDisplayName: string (nullable = true)\n",
            " |-- _LastEditorUserId: long (nullable = true)\n",
            " |-- _OwnerDisplayName: string (nullable = true)\n",
            " |-- _OwnerUserId: long (nullable = true)\n",
            " |-- _ParentId: long (nullable = true)\n",
            " |-- _PostTypeId: long (nullable = true)\n",
            " |-- _Score: long (nullable = true)\n",
            " |-- _Tags: string (nullable = true)\n",
            " |-- _Title: string (nullable = true)\n",
            " |-- _ViewCount: long (nullable = true)\n",
            " |-- _corrupt_record: string (nullable = true)\n",
            "\n"
          ]
        }
      ],
      "source": [
        "posts.printSchema()"
      ]
    },
    {
      "cell_type": "markdown",
      "id": "f046abe0-2e30-4604-b89b-3c2493f2f6c7",
      "metadata": {
        "id": "f046abe0-2e30-4604-b89b-3c2493f2f6c7"
      },
      "source": [
        "_Tags - информация о языках<br/>\n",
        "_CreationDate - информация о дате<br/>\n",
        "_ViewCount - популярность языков"
      ]
    },
    {
      "cell_type": "code",
      "execution_count": 10,
      "id": "c5922266-06bb-44b8-8480-5feb0395329b",
      "metadata": {
        "colab": {
          "base_uri": "https://localhost:8080/"
        },
        "id": "c5922266-06bb-44b8-8480-5feb0395329b",
        "outputId": "0a2e5717-bbff-461b-8ff9-ed076f0df3bb"
      },
      "outputs": [
        {
          "output_type": "stream",
          "name": "stdout",
          "text": [
            "+-----------------------+----------+------------------------------------------------------+\n",
            "|_CreationDate          |_ViewCount|_Tags                                                 |\n",
            "+-----------------------+----------+------------------------------------------------------+\n",
            "|2008-07-31 21:42:52.667|42817     |<c#><floating-point><type-conversion><double><decimal>|\n",
            "|2008-07-31 22:08:08.62 |18214     |<html><css><internet-explorer-7>                      |\n",
            "+-----------------------+----------+------------------------------------------------------+\n",
            "only showing top 2 rows\n",
            "\n"
          ]
        }
      ],
      "source": [
        "posts = posts.select(\"_CreationDate\", \"_ViewCount\", \"_Tags\")\n",
        "posts.show(2, False)"
      ]
    },
    {
      "cell_type": "code",
      "execution_count": 11,
      "id": "27cc3607-66aa-4840-93a5-01ee29f27f78",
      "metadata": {
        "id": "27cc3607-66aa-4840-93a5-01ee29f27f78",
        "colab": {
          "base_uri": "https://localhost:8080/"
        },
        "outputId": "f5b7d285-fa7a-4c9c-ed27-e0ea4c5601f5"
      },
      "outputs": [
        {
          "output_type": "stream",
          "name": "stdout",
          "text": [
            "+----+-----+---------------------------------------------------------------+\n",
            "|year|views|languages                                                      |\n",
            "+----+-----+---------------------------------------------------------------+\n",
            "|2010|3650 |[c++, character-encoding]                                      |\n",
            "|2010|617  |[sharepoint, infopath]                                         |\n",
            "|2010|1315 |[iphone, app-store, in-app-purchase]                           |\n",
            "|2010|973  |[symfony1, schema, doctrine, fixtures]                         |\n",
            "|2010|132  |[java]                                                         |\n",
            "|2010|419  |[visual-studio-2010, stylecop]                                 |\n",
            "|2010|869  |[cakephp, file-upload, swfupload]                              |\n",
            "|2010|1303 |[git, cygwin, putty]                                           |\n",
            "|2010|748  |[drupal, drupal-6]                                             |\n",
            "|2010|1258 |[php, wordpress, memory]                                       |\n",
            "|2010|14972|[c#, winforms, data-binding, checkedlistbox]                   |\n",
            "|2010|274  |[c#, asp.net, exception-handling]                              |\n",
            "|2010|804  |[sql, xml, blob]                                               |\n",
            "|2010|6019 |[.htaccess, codeigniter]                                       |\n",
            "|2010|5456 |[wcf, web-services, anonymous, basichttpbinding, wshttpbinding]|\n",
            "|2010|316  |[mod-rewrite, apache2]                                         |\n",
            "|2010|15477|[sql, database, default, sybase]                               |\n",
            "|2010|9649 |[ruby, rvm]                                                    |\n",
            "|2010|20199|[android, eclipse]                                             |\n",
            "|2010|735  |[iphone, uiimageview, pinch, image-zoom]                       |\n",
            "+----+-----+---------------------------------------------------------------+\n",
            "only showing top 20 rows\n",
            "\n"
          ]
        }
      ],
      "source": [
        "from pyspark.sql.functions import col\n",
        "\n",
        "filtered_posts = posts.filter(\"_Tags is not null\").rdd.map(lambda x: (str(x[0]).split('-')[0], x[1], x[2][1:-1].split(\"><\"))).toDF([\"year\", \"views\", \"languages\"])\n",
        "filtered_posts = filtered_posts.filter(col(\"year\") >= 2010).filter(col(\"year\") <= 2020)\n",
        "filtered_posts.show(truncate=False)"
      ]
    },
    {
      "cell_type": "markdown",
      "id": "a15623c4-6ad6-4814-abd2-54ba79ecae1f",
      "metadata": {
        "id": "a15623c4-6ad6-4814-abd2-54ba79ecae1f"
      },
      "source": [
        "Столбец languages распакуем по примеру\n",
        "<br/>Из записи: <br/>\n",
        "|2010| 599| [c#, c++, java]|\n",
        "<br/>Получилось 3 новых записи:<br/>\n",
        "|2010| 599| c#  |<br/>\n",
        "|2010| 599| c++ |<br/>\n",
        "|2010| 599| java|<br/>"
      ]
    },
    {
      "cell_type": "code",
      "execution_count": 12,
      "id": "306b0a28-fcbe-487f-9a48-e4ce20ee8ed3",
      "metadata": {
        "colab": {
          "base_uri": "https://localhost:8080/"
        },
        "id": "306b0a28-fcbe-487f-9a48-e4ce20ee8ed3",
        "outputId": "37c721b2-21ce-4378-9233-52a4b168243b"
      },
      "outputs": [
        {
          "output_type": "stream",
          "name": "stdout",
          "text": [
            "+----+-----+------------------+\n",
            "|year|views|          language|\n",
            "+----+-----+------------------+\n",
            "|2010| 3650|               c++|\n",
            "|2010| 3650|character-encoding|\n",
            "|2010|  617|        sharepoint|\n",
            "|2010|  617|          infopath|\n",
            "|2010| 1315|            iphone|\n",
            "|2010| 1315|         app-store|\n",
            "|2010| 1315|   in-app-purchase|\n",
            "|2010|  973|          symfony1|\n",
            "|2010|  973|            schema|\n",
            "|2010|  973|          doctrine|\n",
            "|2010|  973|          fixtures|\n",
            "|2010|  132|              java|\n",
            "|2010|  419|visual-studio-2010|\n",
            "|2010|  419|          stylecop|\n",
            "|2010|  869|           cakephp|\n",
            "|2010|  869|       file-upload|\n",
            "|2010|  869|         swfupload|\n",
            "|2010| 1303|               git|\n",
            "|2010| 1303|            cygwin|\n",
            "|2010| 1303|             putty|\n",
            "+----+-----+------------------+\n",
            "only showing top 20 rows\n",
            "\n"
          ]
        }
      ],
      "source": [
        "from pyspark.sql.functions import explode\n",
        "exploded_posts = filtered_posts.select(filtered_posts.year, filtered_posts.views, explode(filtered_posts.languages)).withColumnRenamed(\"col\", \"language\")\n",
        "exploded_posts.show()"
      ]
    },
    {
      "cell_type": "code",
      "execution_count": 13,
      "id": "edf38f33-86cd-4128-9215-aa1571291bfa",
      "metadata": {
        "colab": {
          "base_uri": "https://localhost:8080/"
        },
        "id": "edf38f33-86cd-4128-9215-aa1571291bfa",
        "outputId": "3ddccceb-6a2a-44c1-bffa-25e74d110834"
      },
      "outputs": [
        {
          "output_type": "stream",
          "name": "stdout",
          "text": [
            "+------------+\n",
            "|        name|\n",
            "+------------+\n",
            "|     a# .net|\n",
            "|  a# (axiom)|\n",
            "|  a-0 system|\n",
            "|          a+|\n",
            "|         a++|\n",
            "|        abap|\n",
            "|         abc|\n",
            "|   abc algol|\n",
            "|       abset|\n",
            "|       absys|\n",
            "|         acc|\n",
            "|      accent|\n",
            "|    ace dasl|\n",
            "|        acl2|\n",
            "|     act-iii|\n",
            "|     action!|\n",
            "|actionscript|\n",
            "|         ada|\n",
            "|     adenine|\n",
            "|        agda|\n",
            "+------------+\n",
            "only showing top 20 rows\n",
            "\n"
          ]
        }
      ],
      "source": [
        "from pyspark.sql.functions import lower\n",
        "\n",
        "prog = (program.drop(\"wikipedia_url\")).withColumn(\"name\",  lower(\"name\"))\n",
        "prog.show()"
      ]
    },
    {
      "cell_type": "code",
      "execution_count": 14,
      "id": "2df182e9-d6db-47f8-a366-45916807f3ca",
      "metadata": {
        "colab": {
          "base_uri": "https://localhost:8080/"
        },
        "id": "2df182e9-d6db-47f8-a366-45916807f3ca",
        "outputId": "e568d7a1-4e5b-41c0-e534-d3bc71329af9"
      },
      "outputs": [
        {
          "output_type": "stream",
          "name": "stdout",
          "text": [
            "+----+-----------+----------+\n",
            "|year|   language|sum(views)|\n",
            "+----+-----------+----------+\n",
            "|2013|     erlang|       864|\n",
            "|2017| typescript|     18709|\n",
            "|2013| javascript|    224453|\n",
            "|2013|         f#|       228|\n",
            "|2012| powershell|     13711|\n",
            "|2019|        php|      1729|\n",
            "|2017|    haskell|      2132|\n",
            "|2013| autohotkey|       790|\n",
            "|2019|      xpath|        27|\n",
            "|2015|     racket|       762|\n",
            "|2017|         go|       970|\n",
            "|2018|     python|     35783|\n",
            "|2017|     prolog|        76|\n",
            "|2014|        php|    139737|\n",
            "|2018|        x++|        78|\n",
            "|2014|        lua|       604|\n",
            "|2016|objective-c|       677|\n",
            "|2014|      scala|     24440|\n",
            "|2019|         go|       288|\n",
            "|2018|        php|     14020|\n",
            "+----+-----------+----------+\n",
            "only showing top 20 rows\n",
            "\n"
          ]
        }
      ],
      "source": [
        "exploded_posts = exploded_posts.crossJoin(prog).where(\"language = name\")\n",
        "counted_posts = exploded_posts.groupBy(\"year\", \"language\").agg({\"views\": \"sum\"})\n",
        "counted_posts.show()"
      ]
    },
    {
      "cell_type": "code",
      "execution_count": 15,
      "id": "f78d84ff-8389-4684-a67e-3320095cb0b5",
      "metadata": {
        "colab": {
          "base_uri": "https://localhost:8080/"
        },
        "id": "f78d84ff-8389-4684-a67e-3320095cb0b5",
        "outputId": "62b857a7-4aa9-4abe-a079-60fac390db42"
      },
      "outputs": [
        {
          "output_type": "stream",
          "name": "stdout",
          "text": [
            "+----+-----------+-----+----+\n",
            "|year|   language|views|rank|\n",
            "+----+-----------+-----+----+\n",
            "|2016|     python|78849|   1|\n",
            "|2016|       java|76563|   2|\n",
            "|2016|        php|49559|   3|\n",
            "|2016| javascript|43321|   4|\n",
            "|2016| powershell|24230|   5|\n",
            "|2016|          c|13092|   6|\n",
            "|2016|       ruby|10533|   7|\n",
            "|2016| typescript| 6158|   8|\n",
            "|2016|          r| 5587|   9|\n",
            "|2016|      scala| 4639|  10|\n",
            "|2016|       bash| 3420|  11|\n",
            "|2016|     matlab| 2097|  12|\n",
            "|2016|         go| 1792|  13|\n",
            "|2016|       curl| 1062|  14|\n",
            "|2016|objective-c|  677|  15|\n",
            "|2016|    labview|  569|  16|\n",
            "|2016|       perl|  562|  17|\n",
            "|2016| coldfusion|  538|  18|\n",
            "|2016|    aspectj|  382|  19|\n",
            "|2016|      alice|  262|  20|\n",
            "+----+-----------+-----+----+\n",
            "only showing top 20 rows\n",
            "\n"
          ]
        }
      ],
      "source": [
        "from pyspark.sql.window import Window\n",
        "from pyspark.sql.functions import row_number\n",
        "\n",
        "window = Window.partitionBy(counted_posts.year).orderBy(col(\"sum(views)\").desc())\n",
        "tempDF = counted_posts.withColumn(\"rank\", row_number().over(window))\n",
        "tempDF = tempDF.withColumnRenamed(\"sum(views)\", \"views\")\n",
        "tempDF.show()"
      ]
    },
    {
      "cell_type": "code",
      "execution_count": 30,
      "id": "51ddbaa4-02cc-41ba-87b8-e412805b5511",
      "metadata": {
        "colab": {
          "base_uri": "https://localhost:8080/"
        },
        "id": "51ddbaa4-02cc-41ba-87b8-e412805b5511",
        "outputId": "59c8ba2f-0486-4fbb-d496-31a26d2a45fa"
      },
      "outputs": [
        {
          "output_type": "stream",
          "name": "stdout",
          "text": [
            "+----+-----------+------+\n",
            "|year|   language| views|\n",
            "+----+-----------+------+\n",
            "|2010| javascript|232878|\n",
            "|2010|       java|143138|\n",
            "|2010|       ruby| 75287|\n",
            "|2010|          c| 54927|\n",
            "|2010|     matlab| 51865|\n",
            "|2010|objective-c| 46232|\n",
            "|2010|     python| 40736|\n",
            "|2010|applescript| 31320|\n",
            "|2010|        php| 25574|\n",
            "|2010|          r|  7499|\n",
            "|2011|     python|113640|\n",
            "|2011| javascript| 89636|\n",
            "|2011|       java| 77519|\n",
            "|2011|          c| 62390|\n",
            "|2011|        php| 47509|\n",
            "|2011|objective-c| 29405|\n",
            "|2011|       bash| 16091|\n",
            "|2011|          r| 12764|\n",
            "|2011|       ruby| 12572|\n",
            "|2011|     cython|  8109|\n",
            "+----+-----------+------+\n",
            "only showing top 20 rows\n",
            "\n"
          ]
        }
      ],
      "source": [
        "tempDF = tempDF.filter(col(\"rank\") <= 10)\n",
        "result = tempDF.drop(\"rank\")\n",
        "result = result.orderBy(col(\"year\").asc(), col(\"views\").desc())\n",
        "result.show()"
      ]
    },
    {
      "cell_type": "code",
      "source": [
        "directory_path = \"result_data.parquet\"\n",
        "result.write.parquet(directory_path)"
      ],
      "metadata": {
        "id": "DxvzImGJJjYa"
      },
      "id": "DxvzImGJJjYa",
      "execution_count": 53,
      "outputs": []
    },
    {
      "cell_type": "code",
      "source": [
        "!ls"
      ],
      "metadata": {
        "colab": {
          "base_uri": "https://localhost:8080/"
        },
        "id": "4AFVkMikLcBQ",
        "outputId": "f85cdd2e-9362-4042-a41b-c7e6c3f9353f"
      },
      "id": "4AFVkMikLcBQ",
      "execution_count": 54,
      "outputs": [
        {
          "output_type": "stream",
          "name": "stdout",
          "text": [
            "posts_sample.xml\t   result_data.parquet\tspark-3.1.1-bin-hadoop3.2\n",
            "programming-languages.csv  sample_data\t\tspark-3.1.1-bin-hadoop3.2.tgz\n"
          ]
        }
      ]
    },
    {
      "cell_type": "code",
      "source": [
        "# Удаление\n",
        "\n",
        "import shutil\n",
        "shutil.rmtree(directory_path)"
      ],
      "metadata": {
        "id": "NPfotN4SKxfU"
      },
      "id": "NPfotN4SKxfU",
      "execution_count": 55,
      "outputs": []
    }
  ],
  "metadata": {
    "kernelspec": {
      "display_name": "Python 3",
      "language": "python",
      "name": "python3"
    },
    "language_info": {
      "codemirror_mode": {
        "name": "ipython",
        "version": 3
      },
      "file_extension": ".py",
      "mimetype": "text/x-python",
      "name": "python",
      "nbconvert_exporter": "python",
      "pygments_lexer": "ipython3",
      "version": "3.9.5"
    },
    "colab": {
      "provenance": []
    }
  },
  "nbformat": 4,
  "nbformat_minor": 5
}