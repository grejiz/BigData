{
  "cells": [
    {
      "cell_type": "code",
      "execution_count": null,
      "id": "3d4d6d46-1fa8-44f0-9f89-1893bdb80910",
      "metadata": {
        "id": "3d4d6d46-1fa8-44f0-9f89-1893bdb80910",
        "colab": {
          "base_uri": "https://localhost:8080/"
        },
        "outputId": "78598492-d556-425b-d0b3-190d9b6e8e67"
      },
      "outputs": [
        {
          "metadata": {
            "tags": null
          },
          "name": "stdout",
          "output_type": "stream",
          "text": [
            "W: Operation was interrupted before it could finish\n",
            "^C\n"
          ]
        }
      ],
      "source": [
        "!apt-get install openjdk-8-jdk-headless -qq > /dev/null\n",
        "!wget -q http://archive.apache.org/dist/spark/spark-3.1.1/spark-3.1.1-bin-hadoop3.2.tgz\n",
        "!tar xf spark-3.1.1-bin-hadoop3.2.tgz"
      ]
    },
    {
      "cell_type": "code",
      "source": [
        "import os\n",
        "os.environ[\"SPARK_HOME\"] = \"/content/spark-3.1.1-bin-hadoop3.2\"\n",
        "os.environ[\"JAVA_HOME\"] = \"/usr/lib/jvm/java-8-openjdk-amd64\""
      ],
      "metadata": {
        "id": "MwbN0Hqr7i0j"
      },
      "id": "MwbN0Hqr7i0j",
      "execution_count": null,
      "outputs": []
    },
    {
      "cell_type": "code",
      "source": [
        "!pip install findspark"
      ],
      "metadata": {
        "colab": {
          "base_uri": "https://localhost:8080/"
        },
        "id": "fJ6Sj5WM7nIJ",
        "outputId": "41035883-eebf-4f68-fdd7-a9d59888472c"
      },
      "id": "fJ6Sj5WM7nIJ",
      "execution_count": null,
      "outputs": [
        {
          "output_type": "stream",
          "name": "stdout",
          "text": [
            "Collecting findspark\n",
            "  Downloading findspark-2.0.1-py2.py3-none-any.whl (4.4 kB)\n",
            "Installing collected packages: findspark\n",
            "Successfully installed findspark-2.0.1\n"
          ]
        }
      ]
    },
    {
      "cell_type": "code",
      "source": [
        "import findspark\n",
        "findspark.init()"
      ],
      "metadata": {
        "id": "9oJQDg-W7p6u"
      },
      "id": "9oJQDg-W7p6u",
      "execution_count": null,
      "outputs": []
    },
    {
      "cell_type": "code",
      "source": [
        "!pip3 install pyspark==3.0.0"
      ],
      "metadata": {
        "colab": {
          "base_uri": "https://localhost:8080/"
        },
        "id": "UmipeV6f7trz",
        "outputId": "fa1d1f46-6d67-4e2d-a458-205661418296"
      },
      "id": "UmipeV6f7trz",
      "execution_count": null,
      "outputs": [
        {
          "output_type": "stream",
          "name": "stdout",
          "text": [
            "Collecting pyspark==3.0.0\n",
            "  Downloading pyspark-3.0.0.tar.gz (204.7 MB)\n",
            "\u001b[2K     \u001b[90m━━━━━━━━━━━━━━━━━━━━━━━━━━━━━━━━━━━━━━━━\u001b[0m \u001b[32m204.7/204.7 MB\u001b[0m \u001b[31m3.0 MB/s\u001b[0m eta \u001b[36m0:00:00\u001b[0m\n",
            "\u001b[?25h  Preparing metadata (setup.py) ... \u001b[?25l\u001b[?25hdone\n",
            "Collecting py4j==0.10.9 (from pyspark==3.0.0)\n",
            "  Downloading py4j-0.10.9-py2.py3-none-any.whl (198 kB)\n",
            "\u001b[2K     \u001b[90m━━━━━━━━━━━━━━━━━━━━━━━━━━━━━━━━━━━━━━━━\u001b[0m \u001b[32m198.6/198.6 kB\u001b[0m \u001b[31m19.3 MB/s\u001b[0m eta \u001b[36m0:00:00\u001b[0m\n",
            "\u001b[?25hBuilding wheels for collected packages: pyspark\n",
            "  Building wheel for pyspark (setup.py) ... \u001b[?25l\u001b[?25hdone\n",
            "  Created wheel for pyspark: filename=pyspark-3.0.0-py2.py3-none-any.whl size=205044159 sha256=68726b7bde4955810913cccfb17f1b7ae42b38f9d7cc49020d9e2cb602b8adde\n",
            "  Stored in directory: /root/.cache/pip/wheels/b1/bb/8b/ca24d3f756f2ed967225b0871898869db676eb5846df5adc56\n",
            "Successfully built pyspark\n",
            "Installing collected packages: py4j, pyspark\n",
            "  Attempting uninstall: py4j\n",
            "    Found existing installation: py4j 0.10.9.7\n",
            "    Uninstalling py4j-0.10.9.7:\n",
            "      Successfully uninstalled py4j-0.10.9.7\n",
            "Successfully installed py4j-0.10.9 pyspark-3.0.0\n"
          ]
        }
      ]
    },
    {
      "cell_type": "code",
      "source": [
        "# Инициализация\n",
        "\n",
        "from pyspark import SparkContext, SparkConf\n",
        "import pyspark.sql as sql\n",
        "from pyspark.sql import SparkSession\n",
        "from pyspark.sql.types import DoubleType\n",
        "from pyspark.sql.functions import udf, col, max, sum, countDistinct\n",
        "\n",
        "spark = SparkSession \\\n",
        "    .builder \\\n",
        "    .appName(\"Lab1_6407_Bykova\") \\\n",
        "    .getOrCreate()"
      ],
      "metadata": {
        "id": "5fMrKc_77yAl"
      },
      "id": "5fMrKc_77yAl",
      "execution_count": 8,
      "outputs": []
    },
    {
      "cell_type": "code",
      "source": [
        "# Загрузка данных\n",
        "\n",
        "import os\n",
        "data_path = os.path.join(os.curdir, \"data\")\n",
        "trips_path = os.path.join(\"trips.csv\")\n",
        "stations_path = os.path.join(\"stations.csv\")\n",
        "\n",
        "trips = spark.read \\\n",
        "        .option(\"header\", True) \\\n",
        "        .option(\"inferSchema\", True) \\\n",
        "        .option(\"DateTimeFormat\", 'M/d/y H:m') \\\n",
        "        .csv(trips_path)\n",
        "\n",
        "stations = spark.read \\\n",
        "        .option(\"header\", True) \\\n",
        "        .option(\"inferSchema\", True) \\\n",
        "        .option(\"DateTimeFormat\", 'M/d/y H:m') \\\n",
        "        .csv(stations_path)"
      ],
      "metadata": {
        "id": "TDS399-X8Csj"
      },
      "id": "TDS399-X8Csj",
      "execution_count": 12,
      "outputs": []
    },
    {
      "cell_type": "markdown",
      "source": [
        "_______________________________________"
      ],
      "metadata": {
        "id": "R3c4LGez7vQo"
      },
      "id": "R3c4LGez7vQo"
    },
    {
      "cell_type": "markdown",
      "id": "03d494d9-552b-4764-8d28-c8fa8534f232",
      "metadata": {
        "tags": [],
        "id": "03d494d9-552b-4764-8d28-c8fa8534f232"
      },
      "source": [
        "### 1. Найти велосипед с максимальным временем пробега"
      ]
    },
    {
      "cell_type": "code",
      "execution_count": 13,
      "id": "1adb6506-1568-4cc0-aaf6-1d9b869a85a5",
      "metadata": {
        "id": "1adb6506-1568-4cc0-aaf6-1d9b869a85a5",
        "outputId": "be3f65e1-ecaf-4891-eaf5-381058f269a7",
        "colab": {
          "base_uri": "https://localhost:8080/"
        }
      },
      "outputs": [
        {
          "output_type": "stream",
          "name": "stdout",
          "text": [
            "Row(bike_id=535, duration=18611693)\n"
          ]
        }
      ],
      "source": [
        "from pyspark.sql.functions import col\n",
        "\n",
        "max_distance = (trips.groupBy(\"bike_id\").agg(sum(col(\"duration\")).alias(\"duration\"))).orderBy(col(\"duration\").desc()).first()\n",
        "print(max_distance)"
      ]
    },
    {
      "cell_type": "markdown",
      "id": "56bdb1e7-3811-472d-9871-08850f809915",
      "metadata": {
        "tags": [],
        "id": "56bdb1e7-3811-472d-9871-08850f809915"
      },
      "source": [
        "### 2. Найти наибольшее геодезическое расстояние между станциями"
      ]
    },
    {
      "cell_type": "code",
      "execution_count": 14,
      "id": "470e738d-a3d9-4cbe-b4f3-371ef6d48286",
      "metadata": {
        "id": "470e738d-a3d9-4cbe-b4f3-371ef6d48286",
        "outputId": "ea7c15ab-8533-45e2-f2ad-6058bd9f28c5",
        "colab": {
          "base_uri": "https://localhost:8080/"
        }
      },
      "outputs": [
        {
          "output_type": "stream",
          "name": "stdout",
          "text": [
            "Before crossJoin:  70\n",
            "After crossJoin:  4900\n",
            "root\n",
            " |-- id: integer (nullable = true)\n",
            " |-- name: string (nullable = true)\n",
            " |-- lat: double (nullable = true)\n",
            " |-- long: double (nullable = true)\n",
            " |-- dock_count: integer (nullable = true)\n",
            " |-- city: string (nullable = true)\n",
            " |-- installation_date: string (nullable = true)\n",
            " |-- id: integer (nullable = true)\n",
            " |-- name: string (nullable = true)\n",
            " |-- lat: double (nullable = true)\n",
            " |-- long: double (nullable = true)\n",
            " |-- dock_count: integer (nullable = true)\n",
            " |-- city: string (nullable = true)\n",
            " |-- installation_date: string (nullable = true)\n",
            "\n"
          ]
        }
      ],
      "source": [
        "print(\"Before crossJoin: \", stations.count())\n",
        "joined_stations = stations.crossJoin(stations)\n",
        "print(\"After crossJoin: \", joined_stations.count())\n",
        "joined_stations.printSchema()"
      ]
    },
    {
      "cell_type": "code",
      "execution_count": 16,
      "id": "8ea83df1-c5c5-46c7-a364-c147ecda2cd6",
      "metadata": {
        "id": "8ea83df1-c5c5-46c7-a364-c147ecda2cd6",
        "colab": {
          "base_uri": "https://localhost:8080/"
        },
        "outputId": "41e1135c-e962-481d-f8b6-a716bf80f004"
      },
      "outputs": [
        {
          "output_type": "stream",
          "name": "stdout",
          "text": [
            "69.9428256877473\n"
          ]
        }
      ],
      "source": [
        "# Вычисляем расстояние между всеми станциями и выбираем максимальное\n",
        "\n",
        "from math import sin, cos, sqrt, atan2, radians\n",
        "\n",
        "# Радиус Земли\n",
        "R = 6373.0\n",
        "\n",
        "def computeDistance(lat1, lon1, lat2, lon2):\n",
        "    lat1 = radians(lat1)\n",
        "    lon1 = radians(lon1)\n",
        "    lat2 = radians(lat2)\n",
        "    lon2 = radians(lon2)\n",
        "\n",
        "    dlon = lon2 - lon1\n",
        "    dlat = lat2 - lat1\n",
        "\n",
        "    a = sin(dlat / 2)**2 + cos(lat1) * cos(lat2) * sin(dlon / 2)**2\n",
        "    c = 2 * atan2(sqrt(a), sqrt(1 - a))\n",
        "\n",
        "    return R * c\n",
        "\n",
        "res = joined_stations.rdd.map(lambda x: computeDistance(x[2], x[3], x[9], x[10])).max()\n",
        "print(res)"
      ]
    },
    {
      "cell_type": "markdown",
      "id": "bc568fbe-df6a-4d79-9c5d-99ce15b991d3",
      "metadata": {
        "id": "bc568fbe-df6a-4d79-9c5d-99ce15b991d3"
      },
      "source": [
        "### 3. Найти путь велосипеда с максимальным временем пробега через станции"
      ]
    },
    {
      "cell_type": "code",
      "execution_count": 17,
      "id": "17b5c43f-cf72-4b2b-a7f0-578b3e7f0296",
      "metadata": {
        "id": "17b5c43f-cf72-4b2b-a7f0-578b3e7f0296",
        "colab": {
          "base_uri": "https://localhost:8080/"
        },
        "outputId": "0073a646-e5ad-41ed-f044-d113c2094de6"
      },
      "outputs": [
        {
          "output_type": "stream",
          "name": "stdout",
          "text": [
            "Row(start_station_name='South Van Ness at Market', end_station_name='2nd at Folsom', duration=17270400)\n"
          ]
        }
      ],
      "source": [
        "duration = trips.select(\"start_station_name\", \"end_station_name\", \"duration\").orderBy(col(\"duration\").desc()).first()\n",
        "print(duration)"
      ]
    },
    {
      "cell_type": "markdown",
      "id": "277c5d75-d881-4e9a-ba47-9d669b8e9dbc",
      "metadata": {
        "id": "277c5d75-d881-4e9a-ba47-9d669b8e9dbc"
      },
      "source": [
        "### 4. Найти количество велосипедов в системе"
      ]
    },
    {
      "cell_type": "code",
      "execution_count": 18,
      "id": "004ef678-9a1a-4175-88f0-756c62dd2316",
      "metadata": {
        "id": "004ef678-9a1a-4175-88f0-756c62dd2316",
        "colab": {
          "base_uri": "https://localhost:8080/"
        },
        "outputId": "466295e5-bedb-4ca0-f4af-f351754e4c74"
      },
      "outputs": [
        {
          "output_type": "execute_result",
          "data": {
            "text/plain": [
              "700"
            ]
          },
          "metadata": {},
          "execution_count": 18
        }
      ],
      "source": [
        "trips.select(\"bike_id\").distinct().count()"
      ]
    },
    {
      "cell_type": "markdown",
      "id": "a7594164-b78c-4df3-9d83-917abad147d8",
      "metadata": {
        "id": "a7594164-b78c-4df3-9d83-917abad147d8"
      },
      "source": [
        "### 5. Найти пользователей потративших на поездки более 3 часов"
      ]
    },
    {
      "cell_type": "code",
      "execution_count": 19,
      "id": "16848c83-7ec2-4d6e-9b8d-006fe7a92d2a",
      "metadata": {
        "id": "16848c83-7ec2-4d6e-9b8d-006fe7a92d2a",
        "colab": {
          "base_uri": "https://localhost:8080/"
        },
        "outputId": "296e4797-b6f6-471e-811b-a6df8e8cc596"
      },
      "outputs": [
        {
          "output_type": "stream",
          "name": "stdout",
          "text": [
            "+-------+-------+\n",
            "|bike_id|   time|\n",
            "+-------+-------+\n",
            "|    471|1718831|\n",
            "|    496|1679568|\n",
            "|    148| 332138|\n",
            "|    463|1722796|\n",
            "|    540|1752835|\n",
            "|    392|1789476|\n",
            "|    623|2037219|\n",
            "|    243| 307458|\n",
            "|    516|1896751|\n",
            "|     31| 407907|\n",
            "|    580|1034382|\n",
            "|    137|1529200|\n",
            "|    251|1282980|\n",
            "|    451|1695574|\n",
            "|     85|1214769|\n",
            "|    458|1647080|\n",
            "|     65| 216922|\n",
            "|    588| 266415|\n",
            "|    255| 396395|\n",
            "|     53| 226389|\n",
            "+-------+-------+\n",
            "only showing top 20 rows\n",
            "\n"
          ]
        },
        {
          "output_type": "execute_result",
          "data": {
            "text/plain": [
              "699"
            ]
          },
          "metadata": {},
          "execution_count": 19
        }
      ],
      "source": [
        "res =  (trips.groupBy(\"bike_id\").sum(\"duration\").withColumnRenamed(\"sum(duration)\", \"time\")).filter(\"time>10800\")\n",
        "res.show()\n",
        "res.count()"
      ]
    }
  ],
  "metadata": {
    "kernelspec": {
      "display_name": "Python 3",
      "language": "python",
      "name": "python3"
    },
    "language_info": {
      "codemirror_mode": {
        "name": "ipython",
        "version": 3
      },
      "file_extension": ".py",
      "mimetype": "text/x-python",
      "name": "python",
      "nbconvert_exporter": "python",
      "pygments_lexer": "ipython3",
      "version": "3.9.5"
    },
    "colab": {
      "provenance": []
    }
  },
  "nbformat": 4,
  "nbformat_minor": 5
}