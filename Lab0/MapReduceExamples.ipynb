{
  "cells": [
    {
      "cell_type": "markdown",
      "metadata": {
        "id": "82OvPKEiEqjc"
      },
      "source": [
        "# Введение в MapReduce модель на Python\n"
      ]
    },
    {
      "cell_type": "code",
      "execution_count": null,
      "metadata": {
        "id": "JQ2cvXLjICmI"
      },
      "outputs": [],
      "source": [
        "from typing import NamedTuple # requires python 3.6+\n",
        "from typing import Iterator"
      ]
    },
    {
      "cell_type": "code",
      "execution_count": null,
      "metadata": {
        "id": "yjPHumVwEyEg"
      },
      "outputs": [],
      "source": [
        "def MAP(_, row:NamedTuple):\n",
        "  if (row.gender == 'female'):\n",
        "    yield (row.age, row)\n",
        "\n",
        "def REDUCE(age:str, rows:Iterator[NamedTuple]):\n",
        "  sum = 0\n",
        "  count = 0\n",
        "  for row in rows:\n",
        "    sum += row.social_contacts\n",
        "    count += 1\n",
        "  if (count > 0):\n",
        "    yield (age, sum/count)\n",
        "  else:\n",
        "    yield (age, 0)"
      ]
    },
    {
      "cell_type": "markdown",
      "metadata": {
        "id": "vBKMgpG_ilaZ"
      },
      "source": [
        "Модель элемента данных"
      ]
    },
    {
      "cell_type": "code",
      "execution_count": null,
      "metadata": {
        "id": "Rv-XIjhTJPx3"
      },
      "outputs": [],
      "source": [
        "class User(NamedTuple):\n",
        "  id: int\n",
        "  age: str\n",
        "  social_contacts: int\n",
        "  gender: str"
      ]
    },
    {
      "cell_type": "code",
      "execution_count": null,
      "metadata": {
        "id": "5KV0Ze2vQgu5"
      },
      "outputs": [],
      "source": [
        "input_collection = [\n",
        "    User(id=0, age=55, gender='male', social_contacts=20),\n",
        "    User(id=1, age=25, gender='female', social_contacts=240),\n",
        "    User(id=2, age=25, gender='female', social_contacts=500),\n",
        "    User(id=3, age=33, gender='female', social_contacts=800)\n",
        "]"
      ]
    },
    {
      "cell_type": "markdown",
      "metadata": {
        "id": "YFeqzyZxZIFZ"
      },
      "source": [
        "Функция RECORDREADER моделирует чтение элементов с диска или по сети."
      ]
    },
    {
      "cell_type": "code",
      "execution_count": null,
      "metadata": {
        "id": "S5HR4E_GQoMJ"
      },
      "outputs": [],
      "source": [
        "def RECORDREADER():\n",
        "  return [(u.id, u) for u in input_collection]"
      ]
    },
    {
      "cell_type": "code",
      "execution_count": null,
      "metadata": {
        "colab": {
          "base_uri": "https://localhost:8080/"
        },
        "id": "NeEoWla-ROUy",
        "outputId": "80193c93-ef0f-4348-99e4-0d8355a49e16"
      },
      "outputs": [
        {
          "data": {
            "text/plain": [
              "[(0, User(id=0, age=55, social_contacts=20, gender='male')),\n",
              " (1, User(id=1, age=25, social_contacts=240, gender='female')),\n",
              " (2, User(id=2, age=25, social_contacts=500, gender='female')),\n",
              " (3, User(id=3, age=33, social_contacts=800, gender='female'))]"
            ]
          },
          "execution_count": 30,
          "metadata": {},
          "output_type": "execute_result"
        }
      ],
      "source": [
        "list(RECORDREADER())"
      ]
    },
    {
      "cell_type": "code",
      "execution_count": null,
      "metadata": {
        "id": "YB8orgPSZs8M"
      },
      "outputs": [],
      "source": [
        "def flatten(nested_iterable):\n",
        "  for iterable in nested_iterable:\n",
        "    for element in iterable:\n",
        "      yield element"
      ]
    },
    {
      "cell_type": "code",
      "execution_count": null,
      "metadata": {
        "colab": {
          "base_uri": "https://localhost:8080/"
        },
        "id": "74oyvDLaRmd5",
        "outputId": "1079136e-4eca-4185-be2b-174bed026751"
      },
      "outputs": [
        {
          "data": {
            "text/plain": [
              "[(25, User(id=1, age=25, social_contacts=240, gender='female')),\n",
              " (25, User(id=2, age=25, social_contacts=500, gender='female')),\n",
              " (33, User(id=3, age=33, social_contacts=800, gender='female'))]"
            ]
          },
          "execution_count": 32,
          "metadata": {},
          "output_type": "execute_result"
        }
      ],
      "source": [
        "map_output = flatten(map(lambda x: MAP(*x), RECORDREADER()))\n",
        "map_output = list(map_output) # materialize\n",
        "map_output"
      ]
    },
    {
      "cell_type": "code",
      "execution_count": null,
      "metadata": {
        "id": "8ncYDJ3-VzDn"
      },
      "outputs": [],
      "source": [
        "def groupbykey(iterable):\n",
        "  t = {}\n",
        "  for (k2, v2) in iterable:\n",
        "    t[k2] = t.get(k2, []) + [v2]\n",
        "  return t.items()"
      ]
    },
    {
      "cell_type": "code",
      "execution_count": null,
      "metadata": {
        "colab": {
          "base_uri": "https://localhost:8080/"
        },
        "id": "cKzY_6COWOA2",
        "outputId": "b66a790d-8fc1-4b0b-8487-cec7a551e11c"
      },
      "outputs": [
        {
          "data": {
            "text/plain": [
              "[(25,\n",
              "  [User(id=1, age=25, social_contacts=240, gender='female'),\n",
              "   User(id=2, age=25, social_contacts=500, gender='female')]),\n",
              " (33, [User(id=3, age=33, social_contacts=800, gender='female')])]"
            ]
          },
          "execution_count": 34,
          "metadata": {},
          "output_type": "execute_result"
        }
      ],
      "source": [
        "shuffle_output = groupbykey(map_output)\n",
        "shuffle_output = list(shuffle_output)\n",
        "shuffle_output"
      ]
    },
    {
      "cell_type": "code",
      "execution_count": null,
      "metadata": {
        "colab": {
          "base_uri": "https://localhost:8080/"
        },
        "id": "NlA7lkDDYL0t",
        "outputId": "8bead31d-ff3d-43e6-ce68-02d8c87bfc18"
      },
      "outputs": [
        {
          "data": {
            "text/plain": [
              "[(25, 370.0), (33, 800.0)]"
            ]
          },
          "execution_count": 35,
          "metadata": {},
          "output_type": "execute_result"
        }
      ],
      "source": [
        "reduce_output = flatten(map(lambda x: REDUCE(*x), shuffle_output))\n",
        "reduce_output = list(reduce_output)\n",
        "reduce_output"
      ]
    },
    {
      "cell_type": "markdown",
      "metadata": {
        "id": "xf6qhHEtd6bI"
      },
      "source": [
        "Все действия одним конвейером!"
      ]
    },
    {
      "cell_type": "code",
      "execution_count": null,
      "metadata": {
        "colab": {
          "base_uri": "https://localhost:8080/"
        },
        "id": "dZaQGYxCdpw5",
        "outputId": "223983f9-0081-4ed4-9aa6-dce997efa2bf"
      },
      "outputs": [
        {
          "data": {
            "text/plain": [
              "[(25, 370.0), (33, 800.0)]"
            ]
          },
          "execution_count": 36,
          "metadata": {},
          "output_type": "execute_result"
        }
      ],
      "source": [
        "list(flatten(map(lambda x: REDUCE(*x), groupbykey(flatten(map(lambda x: MAP(*x), RECORDREADER()))))))"
      ]
    },
    {
      "cell_type": "markdown",
      "metadata": {
        "id": "Vq3EWRIpwSiJ"
      },
      "source": [
        "# **MapReduce**\n",
        "Выделим общую для всех пользователей часть системы в отдельную функцию высшего порядка. Это наиболее простая модель MapReduce, без учёта распределённого хранения данных.\n",
        "\n",
        "Пользователь для решения своей задачи реализует RECORDREADER, MAP, REDUCE."
      ]
    },
    {
      "cell_type": "code",
      "execution_count": null,
      "metadata": {
        "id": "V1PZeQMwwVjc"
      },
      "outputs": [],
      "source": [
        "def flatten(nested_iterable):\n",
        "  for iterable in nested_iterable:\n",
        "    for element in iterable:\n",
        "      yield element\n",
        "\n",
        "def groupbykey(iterable):\n",
        "  t = {}\n",
        "  for (k2, v2) in iterable:\n",
        "    t[k2] = t.get(k2, []) + [v2]\n",
        "  return t.items()\n",
        "\n",
        "def MapReduce(RECORDREADER, MAP, REDUCE):\n",
        "  return flatten(map(lambda x: REDUCE(*x), groupbykey(flatten(map(lambda x: MAP(*x), RECORDREADER())))))"
      ]
    },
    {
      "cell_type": "markdown",
      "metadata": {
        "id": "iFIVrimep678"
      },
      "source": [
        "## Спецификация MapReduce\n",
        "\n",
        "\n",
        "\n",
        "```\n",
        "f (k1, v1) -> (k2,v2)*\n",
        "g (k2, v2*) -> (k3,v3)*\n",
        "\n",
        "mapreduce ((k1,v1)*) -> (k3,v3)*\n",
        "groupby ((k2,v2)*) -> (k2,v2*)*\n",
        "flatten (e2**) -> e2*\n",
        "\n",
        "mapreduce .map(f).flatten.groupby(k2).map(g).flatten\n",
        "```\n",
        "\n",
        "\n"
      ]
    },
    {
      "cell_type": "markdown",
      "metadata": {
        "id": "QtTFyqke3KGe"
      },
      "source": [
        "# Примеры"
      ]
    },
    {
      "cell_type": "markdown",
      "metadata": {
        "id": "BNhh5763w5Vn"
      },
      "source": [
        "## SQL"
      ]
    },
    {
      "cell_type": "code",
      "execution_count": null,
      "metadata": {
        "colab": {
          "base_uri": "https://localhost:8080/"
        },
        "id": "QkyurnvGxBGk",
        "outputId": "cb6db449-0d15-4344-ed7a-f008756211ab"
      },
      "outputs": [
        {
          "data": {
            "text/plain": [
              "[(25, 370.0), (33, 800.0)]"
            ]
          },
          "execution_count": 38,
          "metadata": {},
          "output_type": "execute_result"
        }
      ],
      "source": [
        "from typing import NamedTuple # requires python 3.6+\n",
        "from typing import Iterator\n",
        "\n",
        "class User(NamedTuple):\n",
        "  id: int\n",
        "  age: str\n",
        "  social_contacts: int\n",
        "  gender: str\n",
        "\n",
        "input_collection = [\n",
        "    User(id=0, age=55, gender='male', social_contacts=20),\n",
        "    User(id=1, age=25, gender='female', social_contacts=240),\n",
        "    User(id=2, age=25, gender='female', social_contacts=500),\n",
        "    User(id=3, age=33, gender='female', social_contacts=800)\n",
        "]\n",
        "\n",
        "def MAP(_, row:NamedTuple):\n",
        "  if (row.gender == 'female'):\n",
        "    yield (row.age, row)\n",
        "\n",
        "def REDUCE(age:str, rows:Iterator[NamedTuple]):\n",
        "  sum = 0\n",
        "  count = 0\n",
        "  for row in rows:\n",
        "    sum += row.social_contacts\n",
        "    count += 1\n",
        "  if (count > 0):\n",
        "    yield (age, sum/count)\n",
        "  else:\n",
        "    yield (age, 0)\n",
        "\n",
        "def RECORDREADER():\n",
        "  return [(u.id, u) for u in input_collection]\n",
        "\n",
        "output = MapReduce(RECORDREADER, MAP, REDUCE)\n",
        "output = list(output)\n",
        "output"
      ]
    },
    {
      "cell_type": "markdown",
      "metadata": {
        "id": "kNKYIeerx0nY"
      },
      "source": [
        "## Matrix-Vector multiplication"
      ]
    },
    {
      "cell_type": "code",
      "execution_count": null,
      "metadata": {
        "colab": {
          "base_uri": "https://localhost:8080/"
        },
        "id": "rwcntRcCyi1V",
        "outputId": "602a771a-75a8-4109-c922-c14f0b060cd6"
      },
      "outputs": [
        {
          "data": {
            "text/plain": [
              "[(0, 1.243457174417388),\n",
              " (1, 1.243457174417388),\n",
              " (2, 1.243457174417388),\n",
              " (3, 1.243457174417388),\n",
              " (4, 1.243457174417388)]"
            ]
          },
          "execution_count": 39,
          "metadata": {},
          "output_type": "execute_result"
        }
      ],
      "source": [
        "from typing import Iterator\n",
        "import numpy as np\n",
        "\n",
        "mat = np.ones((5,4))\n",
        "vec = np.random.rand(4) # in-memory vector in all map tasks\n",
        "\n",
        "def MAP(coordinates:(int, int), value:int):\n",
        "  i, j = coordinates\n",
        "  yield (i, value*vec[j])\n",
        "\n",
        "def REDUCE(i:int, products:Iterator[NamedTuple]):\n",
        "  sum = 0\n",
        "  for p in products:\n",
        "    sum += p\n",
        "  yield (i, sum)\n",
        "\n",
        "def RECORDREADER():\n",
        "  for i in range(mat.shape[0]):\n",
        "    for j in range(mat.shape[1]):\n",
        "      yield ((i, j), mat[i,j])\n",
        "\n",
        "output = MapReduce(RECORDREADER, MAP, REDUCE)\n",
        "output = list(output)\n",
        "output"
      ]
    },
    {
      "cell_type": "markdown",
      "metadata": {
        "id": "ruZREYdi2o4O"
      },
      "source": [
        "## Inverted index"
      ]
    },
    {
      "cell_type": "code",
      "execution_count": null,
      "metadata": {
        "colab": {
          "base_uri": "https://localhost:8080/"
        },
        "id": "vt9H9Alf3TYv",
        "outputId": "c7eb19ab-f4b7-4e13-d858-94df99250782"
      },
      "outputs": [
        {
          "data": {
            "text/plain": [
              "[('what', ['0', '1']),\n",
              " ('is', ['0', '1', '2']),\n",
              " ('it', ['0', '1', '2']),\n",
              " ('a', ['2']),\n",
              " ('banana', ['2'])]"
            ]
          },
          "execution_count": 40,
          "metadata": {},
          "output_type": "execute_result"
        }
      ],
      "source": [
        "from typing import Iterator\n",
        "\n",
        "d1 = \"it is what it is\"\n",
        "d2 = \"what is it\"\n",
        "d3 = \"it is a banana\"\n",
        "documents = [d1, d2, d3]\n",
        "\n",
        "def RECORDREADER():\n",
        "  for (docid, document) in enumerate(documents):\n",
        "    yield (\"{}\".format(docid), document)\n",
        "\n",
        "def MAP(docId:str, body:str):\n",
        "  for word in set(body.split(' ')):\n",
        "    yield (word, docId)\n",
        "\n",
        "def REDUCE(word:str, docIds:Iterator[str]):\n",
        "  yield (word, sorted(docIds))\n",
        "\n",
        "output = MapReduce(RECORDREADER, MAP, REDUCE)\n",
        "output = list(output)\n",
        "output"
      ]
    },
    {
      "cell_type": "markdown",
      "metadata": {
        "id": "R7az-6DA6qr2"
      },
      "source": [
        "## WordCount"
      ]
    },
    {
      "cell_type": "code",
      "execution_count": null,
      "metadata": {
        "colab": {
          "base_uri": "https://localhost:8080/"
        },
        "id": "dN-nbtgG6uYG",
        "outputId": "39df25df-4a62-42f7-a987-cece5ab68fc5"
      },
      "outputs": [
        {
          "data": {
            "text/plain": [
              "[('', 3), ('it', 9), ('is', 9), ('what', 5), ('a', 1), ('banana', 1)]"
            ]
          },
          "execution_count": 41,
          "metadata": {},
          "output_type": "execute_result"
        }
      ],
      "source": [
        "from typing import Iterator\n",
        "\n",
        "d1 = \"\"\"\n",
        "it is what it is\n",
        "it is what it is\n",
        "it is what it is\"\"\"\n",
        "d2 = \"\"\"\n",
        "what is it\n",
        "what is it\"\"\"\n",
        "d3 = \"\"\"\n",
        "it is a banana\"\"\"\n",
        "documents = [d1, d2, d3]\n",
        "\n",
        "def RECORDREADER():\n",
        "  for (docid, document) in enumerate(documents):\n",
        "    for (lineid, line) in enumerate(document.split('\\n')):\n",
        "      yield (\"{}:{}\".format(docid,lineid), line)\n",
        "\n",
        "def MAP(docId:str, line:str):\n",
        "  for word in line.split(\" \"):\n",
        "    yield (word, 1)\n",
        "\n",
        "def REDUCE(word:str, counts:Iterator[int]):\n",
        "  sum = 0\n",
        "  for c in counts:\n",
        "    sum += c\n",
        "  yield (word, sum)\n",
        "\n",
        "output = MapReduce(RECORDREADER, MAP, REDUCE)\n",
        "output = list(output)\n",
        "output"
      ]
    },
    {
      "cell_type": "markdown",
      "metadata": {
        "id": "h-jRAcYCAkkk"
      },
      "source": [
        "# MapReduce Distributed\n",
        "\n",
        "Добавляется в модель фабрика RECORDREARER-ов --- INPUTFORMAT, функция распределения промежуточных результатов по партициям PARTITIONER, и функция COMBINER для частичной аггрегации промежуточных результатов до распределения по новым партициям."
      ]
    },
    {
      "cell_type": "code",
      "execution_count": null,
      "metadata": {
        "id": "nw-b-xJsApgW"
      },
      "outputs": [],
      "source": [
        "def flatten(nested_iterable):\n",
        "  for iterable in nested_iterable:\n",
        "    for element in iterable:\n",
        "      yield element\n",
        "\n",
        "def groupbykey(iterable):\n",
        "  t = {}\n",
        "  for (k2, v2) in iterable:\n",
        "    t[k2] = t.get(k2, []) + [v2]\n",
        "  return t.items()\n",
        "\n",
        "def groupbykey_distributed(map_partitions, PARTITIONER):\n",
        "  global reducers\n",
        "  partitions = [dict() for _ in range(reducers)]\n",
        "  for map_partition in map_partitions:\n",
        "    for (k2, v2) in map_partition:\n",
        "      p = partitions[PARTITIONER(k2)]\n",
        "      p[k2] = p.get(k2, []) + [v2]\n",
        "  return [(partition_id, sorted(partition.items(), key=lambda x: x[0])) for (partition_id, partition) in enumerate(partitions)]\n",
        "\n",
        "def PARTITIONER(obj):\n",
        "  global reducers\n",
        "  return hash(obj) % reducers\n",
        "\n",
        "def MapReduceDistributed(INPUTFORMAT, MAP, REDUCE, PARTITIONER=PARTITIONER, COMBINER=None):\n",
        "  map_partitions = map(lambda record_reader: flatten(map(lambda k1v1: MAP(*k1v1), record_reader)), INPUTFORMAT())\n",
        "  if COMBINER != None:\n",
        "    map_partitions = map(lambda map_partition: flatten(map(lambda k2v2: COMBINER(*k2v2), groupbykey(map_partition))), map_partitions)\n",
        "  reduce_partitions = groupbykey_distributed(map_partitions, PARTITIONER) # shuffle\n",
        "  reduce_outputs = map(lambda reduce_partition: (reduce_partition[0], flatten(map(lambda reduce_input_group: REDUCE(*reduce_input_group), reduce_partition[1]))), reduce_partitions)\n",
        "\n",
        "  print(\"{} key-value pairs were sent over a network.\".format(sum([len(vs) for (k,vs) in flatten([partition for (partition_id, partition) in reduce_partitions])])))\n",
        "  return reduce_outputs"
      ]
    },
    {
      "cell_type": "markdown",
      "metadata": {
        "id": "kxirlf3XqZxY"
      },
      "source": [
        "## Спецификация MapReduce Distributed\n",
        "\n",
        "\n",
        "```\n",
        "f (k1, v1) -> (k2,v2)*\n",
        "g (k2, v2*) -> (k3,v3)*\n",
        "\n",
        "e1 (k1, v1)\n",
        "e2 (k2, v2)\n",
        "partition1 (k2, v2)*\n",
        "partition2 (k2, v2*)*\n",
        "\n",
        "flatmap (e1->e2*, e1*) -> partition1*\n",
        "groupby (partition1*) -> partition2*\n",
        "\n",
        "mapreduce ((k1,v1)*) -> (k3,v3)*\n",
        "mapreduce .flatmap(f).groupby(k2).flatmap(g)\n",
        "```\n",
        "\n"
      ]
    },
    {
      "cell_type": "markdown",
      "metadata": {
        "id": "CWYw_CpbbY3C"
      },
      "source": [
        "## WordCount"
      ]
    },
    {
      "cell_type": "code",
      "execution_count": null,
      "metadata": {
        "colab": {
          "base_uri": "https://localhost:8080/"
        },
        "id": "uR_zfGFkMZlp",
        "outputId": "f22b2430-6502-4359-f049-ca4a02bf7dae"
      },
      "outputs": [
        {
          "name": "stdout",
          "output_type": "stream",
          "text": [
            "56 key-value pairs were sent over a network.\n"
          ]
        },
        {
          "data": {
            "text/plain": [
              "[(0, [('', 6), ('a', 2), ('is', 18), ('it', 18), ('what', 10)]),\n",
              " (1, [('banana', 2)])]"
            ]
          },
          "execution_count": 43,
          "metadata": {},
          "output_type": "execute_result"
        }
      ],
      "source": [
        "from typing import Iterator\n",
        "import numpy as np\n",
        "\n",
        "d1 = \"\"\"\n",
        "it is what it is\n",
        "it is what it is\n",
        "it is what it is\"\"\"\n",
        "d2 = \"\"\"\n",
        "what is it\n",
        "what is it\"\"\"\n",
        "d3 = \"\"\"\n",
        "it is a banana\"\"\"\n",
        "documents = [d1, d2, d3, d1, d2, d3]\n",
        "\n",
        "maps = 3\n",
        "reducers = 2\n",
        "\n",
        "def INPUTFORMAT():\n",
        "  global maps\n",
        "\n",
        "  def RECORDREADER(split):\n",
        "    for (docid, document) in enumerate(split):\n",
        "      for (lineid, line) in enumerate(document.split('\\n')):\n",
        "        yield (\"{}:{}\".format(docid,lineid), line)\n",
        "\n",
        "  split_size =  int(np.ceil(len(documents)/maps))\n",
        "  for i in range(0, len(documents), split_size):\n",
        "    yield RECORDREADER(documents[i:i+split_size])\n",
        "\n",
        "def MAP(docId:str, line:str):\n",
        "  for word in line.split(\" \"):\n",
        "    yield (word, 1)\n",
        "\n",
        "def REDUCE(word:str, counts:Iterator[int]):\n",
        "  sum = 0\n",
        "  for c in counts:\n",
        "    sum += c\n",
        "  yield (word, sum)\n",
        "\n",
        "# try to set COMBINER=REDUCER and look at the number of values sent over the network\n",
        "partitioned_output = MapReduceDistributed(INPUTFORMAT, MAP, REDUCE, COMBINER=None)\n",
        "partitioned_output = [(partition_id, list(partition)) for (partition_id, partition) in partitioned_output]\n",
        "partitioned_output"
      ]
    },
    {
      "cell_type": "markdown",
      "metadata": {
        "id": "gCJGx8IQ87xS"
      },
      "source": [
        "## TeraSort"
      ]
    },
    {
      "cell_type": "code",
      "execution_count": null,
      "metadata": {
        "colab": {
          "base_uri": "https://localhost:8080/"
        },
        "id": "P2v8v1v_8_YR",
        "outputId": "a2d0a44c-3fc6-4c9b-d884-9a87dc537f4f"
      },
      "outputs": [
        {
          "name": "stdout",
          "output_type": "stream",
          "text": [
            "30 key-value pairs were sent over a network.\n"
          ]
        },
        {
          "data": {
            "text/plain": [
              "[(0,\n",
              "  [(None, 0.020803537592738675),\n",
              "   (None, 0.04869788955664345),\n",
              "   (None, 0.10154060019963296),\n",
              "   (None, 0.13445343446056512),\n",
              "   (None, 0.15335786105204996),\n",
              "   (None, 0.16435200467042144),\n",
              "   (None, 0.2865948595965916),\n",
              "   (None, 0.3301902849691952),\n",
              "   (None, 0.3514180314740667),\n",
              "   (None, 0.35461344277024964),\n",
              "   (None, 0.45063148699614874),\n",
              "   (None, 0.4576409491483936),\n",
              "   (None, 0.4883423389367645)]),\n",
              " (1,\n",
              "  [(None, 0.5544386487103019),\n",
              "   (None, 0.5753038158657275),\n",
              "   (None, 0.6182781924026896),\n",
              "   (None, 0.6425299010180078),\n",
              "   (None, 0.6615043765008273),\n",
              "   (None, 0.6701000429120353),\n",
              "   (None, 0.7215959177686226),\n",
              "   (None, 0.7617948482247091),\n",
              "   (None, 0.7682587982199014),\n",
              "   (None, 0.8050648294917139),\n",
              "   (None, 0.8067201917352936),\n",
              "   (None, 0.8318396085507537),\n",
              "   (None, 0.8354157065233713),\n",
              "   (None, 0.8589128553606459),\n",
              "   (None, 0.8888844193086178),\n",
              "   (None, 0.893806954319194),\n",
              "   (None, 0.9253111701520373)])]"
            ]
          },
          "execution_count": 44,
          "metadata": {},
          "output_type": "execute_result"
        }
      ],
      "source": [
        "import numpy as np\n",
        "\n",
        "input_values = np.random.rand(30)\n",
        "maps = 3\n",
        "reducers = 2\n",
        "min_value = 0.0\n",
        "max_value = 1.0\n",
        "\n",
        "def INPUTFORMAT():\n",
        "  global maps\n",
        "\n",
        "  def RECORDREADER(split):\n",
        "    for value in split:\n",
        "        yield (value, None)\n",
        "\n",
        "  split_size =  int(np.ceil(len(input_values)/maps))\n",
        "  for i in range(0, len(input_values), split_size):\n",
        "    yield RECORDREADER(input_values[i:i+split_size])\n",
        "\n",
        "def MAP(value:int, _):\n",
        "  yield (value, None)\n",
        "\n",
        "def PARTITIONER(key):\n",
        "  global reducers\n",
        "  global max_value\n",
        "  global min_value\n",
        "  bucket_size = (max_value-min_value)/reducers\n",
        "  bucket_id = 0\n",
        "  while((key>(bucket_id+1)*bucket_size) and ((bucket_id+1)*bucket_size<max_value)):\n",
        "    bucket_id += 1\n",
        "  return bucket_id\n",
        "\n",
        "def REDUCE(value:int, _):\n",
        "  yield (None,value)\n",
        "\n",
        "partitioned_output = MapReduceDistributed(INPUTFORMAT, MAP, REDUCE, COMBINER=None, PARTITIONER=PARTITIONER)\n",
        "partitioned_output = [(partition_id, list(partition)) for (partition_id, partition) in partitioned_output]\n",
        "partitioned_output"
      ]
    },
    {
      "cell_type": "code",
      "execution_count": null,
      "metadata": {
        "id": "MQhoJaVZI93G"
      },
      "outputs": [],
      "source": []
    },
    {
      "cell_type": "markdown",
      "metadata": {
        "id": "Iy65YJTH99iT"
      },
      "source": [
        "# Упражнения\n",
        "Упражнения взяты из Rajaraman A., Ullman J. D. Mining of massive datasets. – Cambridge University Press, 2011.\n",
        "\n",
        "\n",
        "Для выполнения заданий переопределите функции RECORDREADER, MAP, REDUCE. Для модели распределённой системы может потребоваться переопределение функций PARTITION и COMBINER."
      ]
    },
    {
      "cell_type": "code",
      "execution_count": 26,
      "metadata": {
        "id": "0L_i04PHhZqD"
      },
      "outputs": [],
      "source": [
        "import numpy as np\n",
        "from typing import NamedTuple\n",
        "from typing import Iterator\n",
        "\n",
        "def flatten(nested_iterable):\n",
        "    for iterable in nested_iterable:\n",
        "        for element in iterable:\n",
        "            yield element\n",
        "\n",
        "def groupbykey(iterable):\n",
        "    t = {}\n",
        "    for k2, v2 in iterable:\n",
        "        t[k2] = t.get(k2, []) + [v2]\n",
        "    return t.items()\n",
        "\n",
        "def MapReduce(RECORDREADER, MAP, REDUCE):\n",
        "    return flatten(\n",
        "        map(\n",
        "            lambda x: REDUCE(*x),\n",
        "            groupbykey(flatten(map(lambda x: MAP(*x), RECORDREADER()))),\n",
        "        )\n",
        "    )\n",
        "\n",
        "class User(NamedTuple):\n",
        "    id: int\n",
        "    age: str\n",
        "    social_contacts: int\n",
        "    gender: str\n",
        "\n",
        "input_collection = [\n",
        "    User(id=0, age=55, gender=\"male\", social_contacts=20),\n",
        "    User(id=1, age=25, gender=\"female\", social_contacts=240),\n",
        "    User(id=2, age=25, gender=\"female\", social_contacts=500),\n",
        "    User(id=3, age=33, gender=\"female\", social_contacts=800),\n",
        "]"
      ]
    },
    {
      "cell_type": "markdown",
      "metadata": {
        "id": "cfvAeZm3S8S8"
      },
      "source": [
        "### Максимальное значение ряда\n",
        "\n",
        "Разработайте MapReduce алгоритм, который находит максимальное число входного списка чисел."
      ]
    },
    {
      "cell_type": "code",
      "execution_count": 27,
      "metadata": {
        "colab": {
          "base_uri": "https://localhost:8080/"
        },
        "id": "3GRA1JR-Tkbg",
        "outputId": "bb09a32f-b195-4ff6-dff9-d4f76383ffc6"
      },
      "outputs": [
        {
          "data": {
            "text/plain": [
              "[User(id=3, age=33, social_contacts=800, gender='female')]"
            ]
          },
          "execution_count": 27,
          "metadata": {},
          "output_type": "execute_result"
        }
      ],
      "source": [
        "# Одинаковый ключ группировки (0) для всех пользователей\n",
        "def MAP_MAX(_, row: NamedTuple):\n",
        "    yield (0, row)\n",
        "\n",
        "# Поиск пользователя с максимальным числом контактов\n",
        "def REDUCE_MAX(_, rows: Iterator[NamedTuple]):\n",
        "    max_contacts = 0\n",
        "    max_contacts_user = None\n",
        "    for row in rows:\n",
        "        if row.social_contacts > max_contacts:\n",
        "            max_contacts = row.social_contacts\n",
        "            max_contacts_user = row\n",
        "    yield max_contacts_user\n",
        "\n",
        "def RECORDREADER():\n",
        "    return [(u.id, u) for u in input_collection]\n",
        "\n",
        "list(MapReduce(RECORDREADER, MAP_MAX, REDUCE_MAX))"
      ]
    },
    {
      "cell_type": "markdown",
      "metadata": {
        "id": "k86bXnqZTk-U"
      },
      "source": [
        "### Арифметическое среднее\n",
        "\n",
        "Разработайте MapReduce алгоритм, который находит арифметическое среднее.\n",
        "\n",
        "$$\\overline{X} = \\frac{1}{n}\\sum_{i=0}^{n} x_i$$\n"
      ]
    },
    {
      "cell_type": "code",
      "execution_count": 28,
      "metadata": {
        "colab": {
          "base_uri": "https://localhost:8080/"
        },
        "id": "MPoY5pkfUNZf",
        "outputId": "8a281df9-3cb1-4c40-8bf7-287c2c8db9b7"
      },
      "outputs": [
        {
          "data": {
            "text/plain": [
              "[390.0]"
            ]
          },
          "execution_count": 28,
          "metadata": {},
          "output_type": "execute_result"
        }
      ],
      "source": [
        "# Одинаковый ключ группировки (0) для всех пользователей\n",
        "def MAP_AVG(_, row: NamedTuple):\n",
        "    yield (0, row)\n",
        "\n",
        "# Подсчет среднего числа контактов\n",
        "def REDUCE_AVG(_, rows: Iterator[NamedTuple]):\n",
        "    sum_contact, i = 0, 0\n",
        "    for row in rows:\n",
        "        sum_contact += row.social_contacts\n",
        "        i += 1\n",
        "    yield sum_contact / i if i > 0 else 0\n",
        "\n",
        "def RECORDREADER():\n",
        "    return [(u.id, u) for u in input_collection]\n",
        "\n",
        "list(MapReduce(RECORDREADER, MAP_AVG, REDUCE_AVG))"
      ]
    },
    {
      "cell_type": "markdown",
      "metadata": {
        "id": "xanzszhsIlLe"
      },
      "source": [
        "### GroupByKey на основе сортировки\n",
        "\n",
        "Реализуйте groupByKey на основе сортировки, проверьте его работу на примерах"
      ]
    },
    {
      "cell_type": "code",
      "execution_count": 29,
      "metadata": {
        "colab": {
          "base_uri": "https://localhost:8080/"
        },
        "id": "hQPn3USsIkEC",
        "outputId": "d12b8ac2-1010-4b38-85e0-2a10d07d76b6"
      },
      "outputs": [
        {
          "name": "stdout",
          "output_type": "stream",
          "text": [
            "max: [User(id=3, age=33, social_contacts=800, gender='female')]\n",
            "average: [390.0]\n"
          ]
        }
      ],
      "source": [
        "def groupbykey(iterable):\n",
        "    # Сортировка по ключу\n",
        "    iterable = sorted(iterable, key=lambda e: e[0])\n",
        "    t = {}\n",
        "    for k2, v2 in iterable:\n",
        "        t[k2] = t.get(k2, []) + [v2]\n",
        "    return t.items()\n",
        "\n",
        "print(f\"max: {list(MapReduce(RECORDREADER, MAP_MAX, REDUCE_MAX))}\")\n",
        "\n",
        "print(f\"average: {list(MapReduce(RECORDREADER, MAP_AVG, REDUCE_AVG))}\")"
      ]
    },
    {
      "cell_type": "markdown",
      "metadata": {
        "id": "5SgEjCZyGnu6"
      },
      "source": [
        "### Drop duplicates (set construction, unique elements, distinct)\n",
        "\n",
        "Реализуйте распределённую операцию исключения дубликатов"
      ]
    },
    {
      "cell_type": "code",
      "execution_count": 30,
      "metadata": {
        "colab": {
          "base_uri": "https://localhost:8080/"
        },
        "id": "okjbyApjGhMt",
        "outputId": "e8235062-b938-48b2-e30b-6f1b7dd1fd88"
      },
      "outputs": [
        {
          "name": "stdout",
          "output_type": "stream",
          "text": [
            "7 key-value pairs were sent over a network.\n"
          ]
        },
        {
          "data": {
            "text/plain": [
              "[(0,\n",
              "  [User(id=0, age=54, social_contacts=20, gender='male'),\n",
              "   User(id=2, age=16, social_contacts=123, gender='male')]),\n",
              " (1,\n",
              "  [User(id=1, age=27, social_contacts=642, gender='male'),\n",
              "   User(id=3, age=31, social_contacts=521, gender='male')])]"
            ]
          },
          "execution_count": 30,
          "metadata": {},
          "output_type": "execute_result"
        }
      ],
      "source": [
        "input_collection = [\n",
        "    User(id=0, age=54, gender=\"male\", social_contacts=20),\n",
        "    User(id=0, age=25, gender=\"female\", social_contacts=240),\n",
        "    User(id=1, age=27, gender=\"male\", social_contacts=642),\n",
        "    User(id=2, age=16, gender=\"male\", social_contacts=123),\n",
        "    User(id=2, age=35, gender=\"female\", social_contacts=247),\n",
        "    User(id=3, age=31, gender=\"male\", social_contacts=521),\n",
        "    User(id=3, age=32, gender=\"female\", social_contacts=753),\n",
        "]\n",
        "\n",
        "def flatten(nested_iterable):\n",
        "    for iterable in nested_iterable:\n",
        "        for element in iterable:\n",
        "            yield element\n",
        "\n",
        "def groupbykey(iterable):\n",
        "    t = {}\n",
        "    for k2, v2 in iterable:\n",
        "        t[k2] = t.get(k2, []) + [v2]\n",
        "    return t.items()\n",
        "\n",
        "def groupbykey_distributed(map_partitions, PARTITIONER):\n",
        "    global reducers\n",
        "    partitions = [dict() for _ in range(reducers)]\n",
        "    for map_partition in map_partitions:\n",
        "        for k2, v2 in map_partition:\n",
        "            p = partitions[PARTITIONER(k2)]\n",
        "            p[k2] = p.get(k2, []) + [v2]\n",
        "    return [\n",
        "        (partition_id, sorted(partition.items(), key=lambda x: x[0]))\n",
        "        for (partition_id, partition) in enumerate(partitions)\n",
        "    ]\n",
        "\n",
        "def PARTITIONER(obj):\n",
        "    global reducers\n",
        "    return hash(obj) % reducers\n",
        "\n",
        "def MapReduceDistributed(\n",
        "    INPUTFORMAT, MAP, REDUCE, PARTITIONER=PARTITIONER, COMBINER=None\n",
        "):\n",
        "    map_partitions = map(\n",
        "        lambda record_reader: flatten(map(lambda k1v1: MAP(*k1v1), record_reader)),\n",
        "        INPUTFORMAT(),\n",
        "    )\n",
        "    if COMBINER != None:\n",
        "        map_partitions = map(\n",
        "            lambda map_partition: flatten(\n",
        "                map(lambda k2v2: COMBINER(*k2v2), groupbykey(map_partition))\n",
        "            ),\n",
        "            map_partitions,\n",
        "        )\n",
        "    reduce_partitions = groupbykey_distributed(map_partitions, PARTITIONER)  # shuffle\n",
        "    reduce_outputs = map(\n",
        "        lambda reduce_partition: (\n",
        "            reduce_partition[0],\n",
        "            flatten(\n",
        "                map(\n",
        "                    lambda reduce_input_group: REDUCE(*reduce_input_group),\n",
        "                    reduce_partition[1],\n",
        "                )\n",
        "            ),\n",
        "        ),\n",
        "        reduce_partitions,\n",
        "    )\n",
        "\n",
        "    print(\n",
        "        \"{} key-value pairs were sent over a network.\".format(\n",
        "            sum(\n",
        "                [\n",
        "                    len(vs)\n",
        "                    for (k, vs) in flatten(\n",
        "                        [partition for (partition_id, partition) in reduce_partitions]\n",
        "                    )\n",
        "                ]\n",
        "            )\n",
        "        )\n",
        "    )\n",
        "    return reduce_outputs\n",
        "\n",
        "maps = 3\n",
        "reducers = 2\n",
        "\n",
        "def INPUTFORMAT():\n",
        "    global maps\n",
        "\n",
        "    def RECORDREADER(split):\n",
        "        for userindex, user in enumerate(split):\n",
        "            yield (userindex, user)\n",
        "\n",
        "    # Разделение массива пользователей между вычислительными узлами\n",
        "    split_size = int(np.ceil(len(input_collection) / maps))\n",
        "    for i in range(0, len(input_collection), split_size):\n",
        "        yield RECORDREADER(input_collection[i : i + split_size])\n",
        "\n",
        "# Группировка по id\n",
        "def MAP_UNIQUE(_, user: str):\n",
        "    yield (user.id, user)\n",
        "\n",
        "# Из пользователей с одинаковым id остается только первый\n",
        "def REDUCE_UNIQUE(user_id: int, users: Iterator[int]):\n",
        "    yield users[0]\n",
        "\n",
        "partitioned_output = MapReduceDistributed(\n",
        "    INPUTFORMAT, MAP_UNIQUE, REDUCE_UNIQUE, COMBINER=None\n",
        ")\n",
        "\n",
        "[(partition_id, list(partition)) for (partition_id, partition) in partitioned_output]"
      ]
    },
    {
      "cell_type": "markdown",
      "metadata": {
        "id": "e7sRGoTXuJze"
      },
      "source": [
        "#Операторы реляционной алгебры\n",
        "### Selection (Выборка)\n",
        "\n",
        "**The Map Function**: Для  каждого кортежа $t \\in R$ вычисляется истинность предиката $C$. В случае истины создаётся пара ключ-значение $(t, t)$. В паре ключ и значение одинаковы, равны $t$.\n",
        "\n",
        "**The Reduce Function:** Роль функции Reduce выполняет функция идентичности, которая возвращает то же значение, что получила на вход.\n",
        "\n"
      ]
    },
    {
      "cell_type": "code",
      "execution_count": 31,
      "metadata": {
        "colab": {
          "base_uri": "https://localhost:8080/"
        },
        "id": "4nKIKe59uIfc",
        "outputId": "4bf2bf13-be77-4524-f916-c8c5e82fe1da"
      },
      "outputs": [
        {
          "data": {
            "text/plain": [
              "[(User(id=0, age=25, social_contacts=240, gender='female'),\n",
              "  [User(id=0, age=25, social_contacts=240, gender='female')]),\n",
              " (User(id=2, age=35, social_contacts=247, gender='female'),\n",
              "  [User(id=2, age=35, social_contacts=247, gender='female')]),\n",
              " (User(id=3, age=32, social_contacts=753, gender='female'),\n",
              "  [User(id=3, age=32, social_contacts=753, gender='female')])]"
            ]
          },
          "execution_count": 31,
          "metadata": {},
          "output_type": "execute_result"
        }
      ],
      "source": [
        "# Предикат C = проверка параметра gender\n",
        "def MAP_SELECT(_, row: NamedTuple):\n",
        "    if row.gender == \"female\":\n",
        "        yield (row, row)\n",
        "\n",
        "def REDUCE_SELECT(row: str, rows: Iterator[NamedTuple]):\n",
        "    yield (row, rows)\n",
        "\n",
        "def RECORDREADER():\n",
        "    return [(u.id, u) for u in input_collection]\n",
        "\n",
        "list(MapReduce(RECORDREADER, MAP_SELECT, REDUCE_SELECT))"
      ]
    },
    {
      "cell_type": "markdown",
      "metadata": {
        "id": "w27Ca-_Ku85V"
      },
      "source": [
        "### Projection (Проекция)\n",
        "\n",
        "Проекция на множество атрибутов $S$.\n",
        "\n",
        "**The Map Function:** Для каждого кортежа $t \\in R$ создайте кортеж $t′$, исключая  из $t$ те значения, атрибуты которых не принадлежат  $S$. Верните пару $(t′, t′)$.\n",
        "\n",
        "**The Reduce Function:** Для каждого ключа $t′$, созданного любой Map задачей, вы получаете одну или несколько пар $(t′, t′)$. Reduce функция преобразует $(t′, [t′, t′, . . . , t′])$ в $(t′, t′)$, так, что для ключа $t′$ возвращается одна пара  $(t′, t′)$."
      ]
    },
    {
      "cell_type": "code",
      "execution_count": 32,
      "metadata": {
        "colab": {
          "base_uri": "https://localhost:8080/"
        },
        "id": "BEvuY4GqvhS6",
        "outputId": "2e66b1e8-87d3-430e-d16c-8b0f7ed27e7b"
      },
      "outputs": [
        {
          "data": {
            "text/plain": [
              "[(0,\n",
              "  [{'id': 0, 'age': 54, 'gender': 'male', 'social_contacts': 20},\n",
              "   {'id': 0, 'age': 25, 'gender': 'female', 'social_contacts': 240}]),\n",
              " (1, [{'id': 1, 'age': 27, 'social_contacts': 642}]),\n",
              " (2,\n",
              "  [{'id': 2, 'age': 16, 'gender': 'male', 'social_contacts': 123},\n",
              "   {'id': 2, 'age': 35, 'social_contacts': 247}]),\n",
              " (3,\n",
              "  [{'id': 3, 'age': 31, 'gender': 'male', 'social_contacts': 521},\n",
              "   {'id': 3, 'age': 32, 'gender': 'female', 'social_contacts': 753}])]"
            ]
          },
          "execution_count": 32,
          "metadata": {},
          "output_type": "execute_result"
        }
      ],
      "source": [
        "input_collection_2 = [\n",
        "    dict(id=0, age=54, gender=\"male\", social_contacts=20),\n",
        "    dict(id=0, age=25, gender=\"female\", social_contacts=240),\n",
        "    dict(id=1, age=27, gender=\"undefined\", social_contacts=642),\n",
        "    dict(id=2, age=16, gender=\"male\", social_contacts=123),\n",
        "    dict(id=2, age=35, gender=\"undefined\", social_contacts=247),\n",
        "    dict(id=3, age=31, gender=\"male\", social_contacts=521),\n",
        "    dict(id=3, age=32, gender=\"female\", social_contacts=753),\n",
        "]\n",
        "\n",
        "def flatten(nested_iterable):\n",
        "    for iterable in nested_iterable:\n",
        "        for element in iterable:\n",
        "            yield element\n",
        "\n",
        "def groupbykey(iterable):\n",
        "    t = {}\n",
        "    for k2, v2 in iterable:\n",
        "        t[k2] = t.get(k2, []) + [v2]\n",
        "    return t.items()\n",
        "\n",
        "def MapReduce(RECORDREADER, MAP, REDUCE):\n",
        "    return flatten(\n",
        "        map(\n",
        "            lambda x: REDUCE(*x),\n",
        "            groupbykey(flatten(map(lambda x: MAP(*x), RECORDREADER()))),\n",
        "        )\n",
        "    )\n",
        "\n",
        "# Группировка по id\n",
        "def MAP_PROJECTION(_, row: dict):\n",
        "    S = [\"male\", \"female\"]\n",
        "    if row[\"gender\"] in S:\n",
        "        yield (row[\"id\"], row)\n",
        "    else:\n",
        "        # Удаляем поле gender у полученого словаря\n",
        "        modified_row = row.copy()\n",
        "        del modified_row[\"gender\"]\n",
        "        yield (modified_row[\"id\"], modified_row)\n",
        "\n",
        "def REDUCE_PROJECTION(row: str, rows: Iterator[NamedTuple]):\n",
        "    yield (row, rows)\n",
        "\n",
        "def RECORDREADER():\n",
        "    return [(u[\"id\"], u) for u in input_collection_2]\n",
        "\n",
        "list(MapReduce(RECORDREADER, MAP_PROJECTION, REDUCE_PROJECTION))"
      ]
    },
    {
      "cell_type": "markdown",
      "metadata": {
        "id": "7gau6lKXvn2R"
      },
      "source": [
        "### Union (Объединение)\n",
        "\n",
        "**The Map Function:** Превратите каждый входной кортеж $t$ в пару ключ-значение $(t, t)$.\n",
        "\n",
        "**The Reduce Function:** С каждым ключом $t$ будет ассоциировано одно или два значений. В обоих случаях создайте $(t, t)$ в качестве выходного значения."
      ]
    },
    {
      "cell_type": "code",
      "execution_count": 33,
      "metadata": {
        "colab": {
          "base_uri": "https://localhost:8080/"
        },
        "id": "Sns7a5agv3nw",
        "outputId": "4009cc1a-499f-436d-a61f-5bdd9a551bd4"
      },
      "outputs": [
        {
          "data": {
            "text/plain": [
              "[(User(id=1, age=54, social_contacts=20, gender='male'),\n",
              "  User(id=1, age=54, social_contacts=20, gender='male')),\n",
              " (User(id=2, age=25, social_contacts=240, gender='female'),\n",
              "  User(id=2, age=25, social_contacts=240, gender='female')),\n",
              " (User(id=3, age=27, social_contacts=642, gender='male'),\n",
              "  User(id=3, age=27, social_contacts=642, gender='male')),\n",
              " (User(id=4, age=16, social_contacts=123, gender='male'),\n",
              "  User(id=4, age=16, social_contacts=123, gender='male')),\n",
              " (User(id=5, age=35, social_contacts=247, gender='female'),\n",
              "  User(id=5, age=35, social_contacts=247, gender='female')),\n",
              " (User(id=6, age=31, social_contacts=521, gender='male'),\n",
              "  User(id=6, age=31, social_contacts=521, gender='male')),\n",
              " (User(id=7, age=32, social_contacts=753, gender='female'),\n",
              "  User(id=7, age=32, social_contacts=753, gender='female'))]"
            ]
          },
          "execution_count": 33,
          "metadata": {},
          "output_type": "execute_result"
        }
      ],
      "source": [
        "input_collection_a = [\n",
        "    User(id=1, age=54, gender=\"male\", social_contacts=20),\n",
        "    User(id=2, age=25, gender=\"female\", social_contacts=240),\n",
        "    User(id=3, age=27, gender=\"male\", social_contacts=642),\n",
        "    User(id=4, age=16, gender=\"male\", social_contacts=123),\n",
        "    User(id=5, age=35, gender=\"female\", social_contacts=247),\n",
        "]\n",
        "\n",
        "input_collection_b = [\n",
        "    User(id=5, age=35, gender=\"female\", social_contacts=247),\n",
        "    User(id=6, age=31, gender=\"male\", social_contacts=521),\n",
        "    User(id=7, age=32, gender=\"female\", social_contacts=753),\n",
        "]\n",
        "\n",
        "# Группировка пользователей по id\n",
        "def MAP_UNION(_, row: NamedTuple):\n",
        "    yield (row.id, row)\n",
        "\n",
        "# Выходное значение равно (t, t) независимо от присутствия пользователя в только одной или обоих выборках\n",
        "def REDUCE_UNION(row: str, rows: Iterator[NamedTuple]):\n",
        "    yield (rows[0], rows[0])\n",
        "\n",
        "def RECORDREADER():\n",
        "    return [(u.id, u) for u in input_collection_a + input_collection_b]\n",
        "\n",
        "list(MapReduce(RECORDREADER, MAP_UNION, REDUCE_UNION))"
      ]
    },
    {
      "cell_type": "markdown",
      "metadata": {
        "id": "dQ8TuEbjv4J8"
      },
      "source": [
        "### Intersection (Пересечение)\n",
        "\n",
        "**The Map Function:** Превратите каждый кортеж $t$ в пары ключ-значение $(t, t)$.\n",
        "\n",
        "**The Reduce Function:** Если для ключа $t$ есть список из двух элементов $[t, t]$ $-$ создайте пару $(t, t)$. Иначе, ничего не создавайте."
      ]
    },
    {
      "cell_type": "code",
      "execution_count": 34,
      "metadata": {
        "colab": {
          "base_uri": "https://localhost:8080/"
        },
        "id": "XKlBZh4IwERR",
        "outputId": "cdeaea57-c19c-4c62-b5d5-eb2eaa08a4b8"
      },
      "outputs": [
        {
          "data": {
            "text/plain": [
              "[[User(id=5, age=35, social_contacts=247, gender='female'),\n",
              "  User(id=5, age=35, social_contacts=247, gender='female')]]"
            ]
          },
          "execution_count": 34,
          "metadata": {},
          "output_type": "execute_result"
        }
      ],
      "source": [
        "# Группировка по пользователям\n",
        "def MAP_INTERSECTION(_, row: NamedTuple):\n",
        "    yield (row.id, row)\n",
        "\n",
        "# Eсли пользователь есть в обоих выборках\n",
        "def REDUCE_INTERSECTION(row_id: int, rows: Iterator[NamedTuple]):\n",
        "    if len(rows) == 2:\n",
        "        yield rows\n",
        "\n",
        "def RECORDREADER():\n",
        "    return [(u.id, u) for u in input_collection_a + input_collection_b]\n",
        "\n",
        "list(MapReduce(RECORDREADER, MAP_INTERSECTION, REDUCE_INTERSECTION))"
      ]
    },
    {
      "cell_type": "markdown",
      "metadata": {
        "id": "AVOpqoY3wE5k"
      },
      "source": [
        "### Difference (Разница)\n",
        "\n",
        "**The Map Function:** Для кортежа $t \\in R$, создайте пару $(t, R)$, и для кортежа $t \\in S$, создайте пару $(t, S)$. Задумка заключается в том, чтобы значение пары было именем отношения $R$ or $S$, которому принадлежит кортеж (а лучше, единичный бит, по которому можно два отношения различить $R$ or $S$), а не весь набор атрибутов отношения.\n",
        "\n",
        "**The Reduce Function:** Для каждого ключа $t$, если соответствующее значение является списком $[R]$, создайте пару $(t, t)$. В иных случаях не предпринимайте действий."
      ]
    },
    {
      "cell_type": "code",
      "execution_count": 35,
      "metadata": {
        "colab": {
          "base_uri": "https://localhost:8080/"
        },
        "id": "QE_AC09lwZIZ",
        "outputId": "1be49ed0-ae08-43ec-f5d2-c3b9c01447e1"
      },
      "outputs": [
        {
          "data": {
            "text/plain": [
              "[User(id=1, age=54, social_contacts=20, gender='male'),\n",
              " User(id=2, age=25, social_contacts=240, gender='female'),\n",
              " User(id=3, age=27, social_contacts=642, gender='male'),\n",
              " User(id=4, age=16, social_contacts=123, gender='male')]"
            ]
          },
          "execution_count": 35,
          "metadata": {},
          "output_type": "execute_result"
        }
      ],
      "source": [
        "# Группировка по пользователям\n",
        "def MAP_DIFFERENCE(collection_id, user):\n",
        "    yield (user, collection_id)\n",
        "\n",
        "# Пользователи только из первой выборки\n",
        "def REDUCE_DIFFERENCE(user, collections):\n",
        "    if collections == [0]:\n",
        "        yield (user)\n",
        "\n",
        "# На первом месте стоит номер выборки\n",
        "def RECORDREADER():\n",
        "    return [(0, a) for a in input_collection_a] + [(1, b) for b in input_collection_b]\n",
        "\n",
        "list(MapReduce(RECORDREADER, MAP_DIFFERENCE, REDUCE_DIFFERENCE))"
      ]
    },
    {
      "cell_type": "markdown",
      "metadata": {
        "id": "j8I58V2VwhSm"
      },
      "source": [
        "### Natural Join\n",
        "\n",
        "**The Map Function:** Для каждого кортежа $(a, b)$ отношения $R$, создайте пару $(b,(R, a))$. Для каждого кортежа $(b, c)$ отношения $S$, создайте пару $(b,(S, c))$.\n",
        "\n",
        "**The Reduce Function:** Каждый ключ $b$ будет асоциирован со списком пар, которые принимают форму либо $(R, a)$, либо $(S, c)$. Создайте все пары, одни, состоящие из  первого компонента $R$, а другие, из первого компонента $S$, то есть $(R, a)$ и $(S, c)$. На выходе вы получаете последовательность пар ключ-значение из списков ключей и значений. Ключ не нужен. Каждое значение, это тройка $(a, b, c)$ такая, что $(R, a)$ и $(S, c)$ это принадлежат входному списку значений."
      ]
    },
    {
      "cell_type": "code",
      "execution_count": 41,
      "metadata": {
        "colab": {
          "base_uri": "https://localhost:8080/"
        },
        "id": "yHiuuTctw86I",
        "outputId": "21013442-0d4c-4bb3-d263-9701187e6aa0"
      },
      "outputs": [
        {
          "data": {
            "text/plain": [
              "[(User(id=1, age=54, social_contacts=20, gender='male', city_id=1),\n",
              "  1,\n",
              "  City(id=1, name='Samara')),\n",
              " (User(id=2, age=25, social_contacts=240, gender='female', city_id=2),\n",
              "  2,\n",
              "  City(id=2, name='Moscow')),\n",
              " (User(id=3, age=27, social_contacts=642, gender='male', city_id=2),\n",
              "  2,\n",
              "  City(id=2, name='Moscow')),\n",
              " (User(id=4, age=16, social_contacts=123, gender='male', city_id=3),\n",
              "  3,\n",
              "  City(id=3, name='Omsk')),\n",
              " (User(id=5, age=35, social_contacts=247, gender='female', city_id=4),\n",
              "  4,\n",
              "  City(id=4, name='Tomks'))]"
            ]
          },
          "execution_count": 41,
          "metadata": {},
          "output_type": "execute_result"
        }
      ],
      "source": [
        "class User(NamedTuple):\n",
        "    id: int\n",
        "    age: str\n",
        "    social_contacts: int\n",
        "    gender: str\n",
        "    city_id: int\n",
        "\n",
        "users_collection = [\n",
        "    User(id=1, age=54, gender=\"male\", social_contacts=20, city_id=1),\n",
        "    User(id=2, age=25, gender=\"female\", social_contacts=240, city_id=2),\n",
        "    User(id=3, age=27, gender=\"male\", social_contacts=642, city_id=2),\n",
        "    User(id=4, age=16, gender=\"male\", social_contacts=123, city_id=3),\n",
        "    User(id=5, age=35, gender=\"female\", social_contacts=247, city_id=4),\n",
        "]\n",
        "\n",
        "class City(NamedTuple):\n",
        "    id: int\n",
        "    name: str\n",
        "\n",
        "cities_collection = [\n",
        "    City(id=1, name=\"Samara\"),\n",
        "    City(id=2, name=\"Moscow\"),\n",
        "    City(id=3, name=\"Omsk\"),\n",
        "    City(id=4, name=\"Tomks\"),\n",
        "    City(id=5, name=\"Belgorod\"),\n",
        "]\n",
        "\n",
        "# Группировка пользователей по id города\n",
        "def MAP_JOIN(city_id, row):\n",
        "    yield (city_id, row)\n",
        "\n",
        "def REDUCE_JOIN(city_id, rows):\n",
        "    users = []\n",
        "    city = None\n",
        "\n",
        "    # Определения города\n",
        "    for row in rows:\n",
        "        if type(row) is User:\n",
        "            users += [row]\n",
        "        else:\n",
        "            city = row\n",
        "\n",
        "    for row in rows:\n",
        "        if type(row) is User:\n",
        "            # a - пользователь, b - id города, c - сам город\n",
        "            yield (row, row.city_id, city)\n",
        "\n",
        "# На первом месте стоит id города, на втором - сам город или пользователь\n",
        "def RECORDREADER():\n",
        "    return [(user.city_id, user) for user in users_collection] + [\n",
        "        (city.id, city) for city in cities_collection\n",
        "    ]\n",
        "\n",
        "join_data = list(MapReduce(RECORDREADER, MAP_JOIN, REDUCE_JOIN))\n",
        "join_data"
      ]
    },
    {
      "cell_type": "markdown",
      "metadata": {
        "id": "kYdlr0YUxE27"
      },
      "source": [
        "### Grouping and Aggregation (Группировка и аггрегация)\n",
        "\n",
        "**The Map Function:** Для каждого кортежа $(a, b, c$) создайте пару $(a, b)$.\n",
        "\n",
        "**The Reduce Function:** Ключ представляет ту или иную группу. Примение аггрегирующую операцию $\\theta$ к списку значений $[b1, b2, . . . , bn]$ ассоциированных с ключом $a$. Возвращайте в выходной поток $(a, x)$, где $x$ результат применения  $\\theta$ к списку. Например, если $\\theta$ это $SUM$, тогда $x = b1 + b2 + · · · + bn$, а если $\\theta$ is $MAX$, тогда $x$ это максимальное из значений $b1, b2, . . . , bn$."
      ]
    },
    {
      "cell_type": "code",
      "execution_count": 42,
      "metadata": {
        "colab": {
          "base_uri": "https://localhost:8080/"
        },
        "id": "MLPckfEGxico",
        "outputId": "f14da6f9-7e35-4337-e999-1eb74d759913"
      },
      "outputs": [
        {
          "data": {
            "text/plain": [
              "['city with id=1 has 1 user(s)',\n",
              " 'city with id=2 has 2 user(s)',\n",
              " 'city with id=3 has 1 user(s)',\n",
              " 'city with id=4 has 1 user(s)']"
            ]
          },
          "execution_count": 42,
          "metadata": {},
          "output_type": "execute_result"
        }
      ],
      "source": [
        "# Группировка по id города\n",
        "def MAP_GROUP(city_id, user, city):\n",
        "    yield (city_id, user)\n",
        "\n",
        "# Подсчет количества пользователей в каждом из городов\n",
        "def REDUCE_GROUP(city_id, rows):\n",
        "    yield f\"city with id={city_id} has {len(rows)} user(s)\"\n",
        "\n",
        "def RECORDREADER():\n",
        "    return [(city_id, user, city) for user, city_id, city in join_data]\n",
        "\n",
        "list(MapReduce(RECORDREADER, MAP_GROUP, REDUCE_GROUP))"
      ]
    },
    {
      "cell_type": "markdown",
      "metadata": {
        "id": "03IffTEOJgOb"
      },
      "source": [
        "#"
      ]
    },
    {
      "cell_type": "markdown",
      "metadata": {
        "id": "IIrRgvG4RIS4"
      },
      "source": [
        "### Matrix-Vector multiplication\n",
        "\n",
        "Случай, когда вектор не помещается в памяти Map задачи\n"
      ]
    },
    {
      "cell_type": "code",
      "execution_count": 43,
      "metadata": {
        "colab": {
          "base_uri": "https://localhost:8080/"
        },
        "id": "KQhDbiL3zS9r",
        "outputId": "d6a393b1-824b-42df-9588-de734edbab6d"
      },
      "outputs": [
        {
          "name": "stdout",
          "output_type": "stream",
          "text": [
            "[array([[1., 1.],\n",
            "       [1., 1.],\n",
            "       [1., 1.],\n",
            "       [1., 1.],\n",
            "       [1., 1.]]), array([[1., 1.],\n",
            "       [1., 1.],\n",
            "       [1., 1.],\n",
            "       [1., 1.],\n",
            "       [1., 1.]])]\n",
            "[array([0.48522212, 0.09977812]), array([0.12483688, 0.05603479])]\n",
            "0 [0.48522211849010544, 0.09977812479796744, 0.1248368836516981, 0.05603478643412818]\n",
            "1 [0.48522211849010544, 0.09977812479796744, 0.1248368836516981, 0.05603478643412818]\n",
            "2 [0.48522211849010544, 0.09977812479796744, 0.1248368836516981, 0.05603478643412818]\n",
            "3 [0.48522211849010544, 0.09977812479796744, 0.1248368836516981, 0.05603478643412818]\n",
            "4 [0.48522211849010544, 0.09977812479796744, 0.1248368836516981, 0.05603478643412818]\n"
          ]
        },
        {
          "data": {
            "text/plain": [
              "[(0, 0.7658719133738991),\n",
              " (1, 0.7658719133738991),\n",
              " (2, 0.7658719133738991),\n",
              " (3, 0.7658719133738991),\n",
              " (4, 0.7658719133738991)]"
            ]
          },
          "execution_count": 43,
          "metadata": {},
          "output_type": "execute_result"
        }
      ],
      "source": [
        "from typing import List\n",
        "from typing import Iterator\n",
        "from typing import Tuple\n",
        "import numpy as np\n",
        "\n",
        "ROWS = 5\n",
        "COLS = 4\n",
        "STRIPES = 2\n",
        "\n",
        "COLS_IN_STRIPE = COLS // STRIPES\n",
        "M = [np.ones((ROWS, COLS_IN_STRIPE)) for i in range(STRIPES)]\n",
        "v = [np.random.rand(COLS_IN_STRIPE) for i in range(STRIPES)]\n",
        "\n",
        "def MAP(coordinates: Tuple[int, int], value: int):\n",
        "  i, j = coordinates\n",
        "  yield (i, value * vec[j])\n",
        "\n",
        "def REDUCE(i: int, products: Iterator[NamedTuple]):\n",
        "  print(i, products)\n",
        "  sum = 0\n",
        "  for p in products:\n",
        "    sum += p\n",
        "  yield (i, sum)\n",
        "\n",
        "def RECORDREADER():\n",
        "  global vec\n",
        "  for stripe_index, stripe in enumerate(M):\n",
        "    vec = v[stripe_index]\n",
        "    for i in range(stripe.shape[0]):\n",
        "      for j in range(stripe.shape[1]):\n",
        "        yield ((i, j), stripe[i, j])\n",
        "\n",
        "print(M)\n",
        "print(v)\n",
        "list(MapReduce(RECORDREADER, MAP, REDUCE))"
      ]
    },
    {
      "cell_type": "markdown",
      "metadata": {
        "id": "GIo2t7nNxvA9"
      },
      "source": [
        "## Matrix multiplication (Перемножение матриц)\n",
        "\n",
        "Если у нас есть матрица $M$ с элементами $m_{ij}$ в строке $i$ и столбце $j$, и матрица $N$ с элементами $n_{jk}$ в строке $j$ и столбце $k$, тогда их произведение $P = MN$ есть матрица $P$ с элементами $p_{ik}$ в строке $i$ и столбце $k$, где\n",
        "\n",
        "$$p_{ik} =\\sum_{j} m_{ij}n_{jk}$$\n",
        "\n",
        "Необходимым требованием является одинаковое количество столбцов в $M$ и строк в $N$, чтобы операция суммирования по  $j$ была осмысленной. Мы можем размышлять о матрице, как об отношении с тремя атрибутами: номер строки, номер столбца, само значение. Таким образом матрица $M$ предстваляется как отношение $ M(I, J, V )$, с кортежами $(i, j, m_{ij})$, и, аналогично, матрица $N$ представляется как отношение $N(J, K, W)$, с кортежами $(j, k, n_{jk})$. Так как большие матрицы как правило разреженные (большинство значений равно 0), и так как мы можем нулевыми значениями пренебречь (не хранить), такое реляционное представление достаточно эффективно для больших матриц. Однако, возможно, что координаты $i$, $j$, и $k$ неявно закодированы в смещение позиции элемента относительно начала файла, вместо явного хранения. Тогда, функция Map (или Reader) должна быть разработана таким образом, чтобы реконструировать компоненты $I$, $J$, и $K$ кортежей из смещения.\n",
        "\n",
        "Произведение $MN$ это фактически join, за которым следуют группировка по ключу и аггрегация. Таким образом join отношений $M(I, J, V )$ и $N(J, K, W)$, имеющих общим только атрибут $J$, создаст кортежи $(i, j, k, v, w)$ из каждого кортежа $(i, j, v) \\in M$ и кортежа $(j, k, w) \\in N$. Такой 5 компонентный кортеж представляет пару элементов матрицы $(m_{ij} , n_{jk})$. Что нам хотелось бы получить на самом деле, это произведение этих элементов, то есть, 4 компонентный кортеж$(i, j, k, v \\times w)$, так как он представляет произведение $m_{ij}n_{jk}$. Мы представляем отношение как результат одной MapReduce операции, в которой мы можем произвести группировку и аггрегацию, с $I$ и $K$  атрибутами, по которым идёт группировка, и суммой  $V \\times W$.\n",
        "\n",
        "\n",
        "\n"
      ]
    },
    {
      "cell_type": "code",
      "execution_count": 44,
      "metadata": {
        "id": "1MBkGaLAYVCt"
      },
      "outputs": [],
      "source": [
        "# MapReduce model\n",
        "def flatten(nested_iterable):\n",
        "  for iterable in nested_iterable:\n",
        "    for element in iterable:\n",
        "      yield element\n",
        "\n",
        "def groupbykey(iterable):\n",
        "  t = {}\n",
        "  for (k2, v2) in iterable:\n",
        "    t[k2] = t.get(k2, []) + [v2]\n",
        "  return t.items()\n",
        "\n",
        "def MapReduce(RECORDREADER, MAP, REDUCE):\n",
        "  return flatten(map(lambda x: REDUCE(*x), groupbykey(flatten(map(lambda x: MAP(*x), RECORDREADER())))))"
      ]
    },
    {
      "cell_type": "markdown",
      "metadata": {
        "id": "sMspsOT0ZB35"
      },
      "source": [
        "Реализуйте перемножение матриц с использованием модельного кода MapReduce для одной машины в случае, когда одна матрица хранится в памяти, а другая генерируется RECORDREADER-ом."
      ]
    },
    {
      "cell_type": "code",
      "execution_count": 45,
      "metadata": {
        "id": "psP1XekbsEjS"
      },
      "outputs": [],
      "source": [
        "import numpy as np\n",
        "I = 2\n",
        "J = 3\n",
        "K = 4*10\n",
        "small_mat = np.random.rand(I,J)\n",
        "big_mat = np.random.rand(J,K)\n",
        "\n",
        "def RECORDREADER():\n",
        "  for j in range(big_mat.shape[0]):\n",
        "    for k in range(big_mat.shape[1]):\n",
        "      yield ((j,k), big_mat[j,k])\n",
        "\n",
        "def MAP(k1, v1):\n",
        "  (j, k) = k1\n",
        "  w = v1\n",
        "  for i in range(I):\n",
        "        k2 = (i, k)\n",
        "        v2 = small_mat[i, j] * w\n",
        "        yield (k2, v2)\n",
        "\n",
        "def REDUCE(key, values):\n",
        "  (i, k) = key\n",
        "  k3 = (i, k)\n",
        "\n",
        "  v3 = 0\n",
        "  for j in range(J):\n",
        "      v3 += values[j]\n",
        "  yield (k3, v3)"
      ]
    },
    {
      "cell_type": "markdown",
      "metadata": {
        "id": "rnt306LHhHrm"
      },
      "source": [
        "Проверьте своё решение"
      ]
    },
    {
      "cell_type": "code",
      "execution_count": 46,
      "metadata": {
        "colab": {
          "base_uri": "https://localhost:8080/"
        },
        "id": "Ewy_ZNYqW5a2",
        "outputId": "822faadd-0a50-41c6-b10d-75aab95c2684"
      },
      "outputs": [
        {
          "data": {
            "text/plain": [
              "True"
            ]
          },
          "execution_count": 46,
          "metadata": {},
          "output_type": "execute_result"
        }
      ],
      "source": [
        "reference_solution = np.matmul(small_mat, big_mat)\n",
        "solution = MapReduce(RECORDREADER, MAP, REDUCE)\n",
        "\n",
        "def asmatrix(reduce_output):\n",
        "  reduce_output = list(reduce_output)\n",
        "  I = max(i for ((i,k), vw) in reduce_output)+1\n",
        "  K = max(k for ((i,k), vw) in reduce_output)+1\n",
        "  mat = np.empty(shape=(I,K))\n",
        "  for ((i,k), vw) in reduce_output:\n",
        "    mat[i,k] = vw\n",
        "  return mat\n",
        "\n",
        "np.allclose(reference_solution, asmatrix(solution)) # should return true"
      ]
    },
    {
      "cell_type": "code",
      "execution_count": 47,
      "metadata": {
        "colab": {
          "base_uri": "https://localhost:8080/"
        },
        "id": "TK7v4CEcfxqf",
        "outputId": "0ff4f8ef-fed3-4702-84b4-5340476034d4"
      },
      "outputs": [
        {
          "data": {
            "text/plain": [
              "1"
            ]
          },
          "execution_count": 47,
          "metadata": {},
          "output_type": "execute_result"
        }
      ],
      "source": [
        "reduce_output = list(MapReduce(RECORDREADER, MAP, REDUCE))\n",
        "max(i for ((i,k), vw) in reduce_output)"
      ]
    },
    {
      "cell_type": "markdown",
      "metadata": {
        "id": "i4yyg3kOZqJJ"
      },
      "source": [
        "Реализуйте перемножение матриц  с использованием модельного кода MapReduce для одной машины в случае, когда обе матрицы генерируются в RECORDREADER. Например, сначала одна, а потом другая."
      ]
    },
    {
      "cell_type": "code",
      "execution_count": 48,
      "metadata": {
        "colab": {
          "base_uri": "https://localhost:8080/"
        },
        "id": "3B7rIAJCaHZq",
        "outputId": "d76777a7-634b-451e-bd61-c10dab55c507"
      },
      "outputs": [
        {
          "data": {
            "text/plain": [
              "True"
            ]
          },
          "execution_count": 48,
          "metadata": {},
          "output_type": "execute_result"
        }
      ],
      "source": [
        "I = 2\n",
        "J = 3\n",
        "K = 4 * 10\n",
        "small_mat = np.random.rand(I, J)\n",
        "big_mat = np.random.rand(J, K)\n",
        "\n",
        "# Генерирует пары элементов из обоих матриц вместе с соответствующими им индексами\n",
        "# Элементы в паре предназначены для перемножения и дальнейшего суммирования (M[i,j] и N[i,k])\n",
        "def RECORDREADER():\n",
        "    for i in range(I):\n",
        "        for j in range(J):\n",
        "            for k in range(K):\n",
        "                yield (((i, j), small_mat[i, j]), ((j, k), big_mat[j, k]))\n",
        "\n",
        "# Перемножает полученные элементы двух матриц\n",
        "# Группирует произведения по индексу, соответствующему клетке в результирующей матрице\n",
        "# Таким образом, для каждого ключа (i, k) генерируется J произведений\n",
        "def MAP(element1, element2):\n",
        "    (i, j), v1 = element1\n",
        "    (j, k), v2 = element2\n",
        "\n",
        "    yield ((i, k), v1 * v2)\n",
        "\n",
        "# Суммирует полученные произведения для вычисления элементов результирующей матрицы\n",
        "def REDUCE(key, values):\n",
        "    (i, k) = key\n",
        "\n",
        "    # solution code that yield(k3,v3) pairs\n",
        "    k3 = (i, k)\n",
        "\n",
        "    v3 = 0\n",
        "    for j in range(J):\n",
        "        v3 += values[j]\n",
        "\n",
        "    yield (k3, v3)\n",
        "\n",
        "# CHECK THE SOLUTION\n",
        "reference_solution = np.matmul(small_mat, big_mat)\n",
        "solution = MapReduce(RECORDREADER, MAP, REDUCE)\n",
        "\n",
        "def asmatrix(reduce_output):\n",
        "    reduce_output = list(reduce_output)\n",
        "    I = max(i for ((i, k), vw) in reduce_output) + 1\n",
        "    K = max(k for ((i, k), vw) in reduce_output) + 1\n",
        "    mat = np.empty(shape=(I, K))\n",
        "    for (i, k), vw in reduce_output:\n",
        "        mat[i, k] = vw\n",
        "    return mat\n",
        "\n",
        "np.allclose(reference_solution, asmatrix(solution))"
      ]
    },
    {
      "cell_type": "markdown",
      "metadata": {
        "id": "mXyzQi1DaIwo"
      },
      "source": [
        "Реализуйте перемножение матриц с использованием модельного кода MapReduce Distributed, когда каждая матрица генерируется в своём RECORDREADER."
      ]
    },
    {
      "cell_type": "code",
      "execution_count": 49,
      "metadata": {
        "colab": {
          "base_uri": "https://localhost:8080/"
        },
        "id": "TDM_s78Rb5eR",
        "outputId": "64f4c837-bfda-4dc7-d6b5-47dc027bb178"
      },
      "outputs": [
        {
          "name": "stdout",
          "output_type": "stream",
          "text": [
            "240 key-value pairs were sent over a network.\n"
          ]
        },
        {
          "data": {
            "text/plain": [
              "True"
            ]
          },
          "execution_count": 49,
          "metadata": {},
          "output_type": "execute_result"
        }
      ],
      "source": [
        "maps = 2\n",
        "reducers = 2\n",
        "\n",
        "def INPUTFORMAT():\n",
        "    global maps\n",
        "\n",
        "    # Генерируются пары элементов из обоих матриц\n",
        "    def RECORDREADER(i_range):\n",
        "        for i in i_range:\n",
        "            for j in range(J):\n",
        "                for k in range(K):\n",
        "                    yield (((i, j), small_mat[i, j]), ((j, k), big_mat[j, k]))\n",
        "\n",
        "    # Разделение между вычислительными узлами по строкам первой матрицы\n",
        "    split_size = int(np.ceil(I / maps))\n",
        "    for i in range(0, I, split_size):\n",
        "        yield RECORDREADER(range(i, i + split_size))\n",
        "\n",
        "# Возвращает произведения соответствующих элементов из обоих матриц, группируя их по индексу в результирующей матрице\n",
        "def MAP(element1, element2):\n",
        "    (i, j), v1 = element1\n",
        "    (j, k), v2 = element2\n",
        "\n",
        "    yield ((i, k), v1 * v2)\n",
        "\n",
        "# Суммирует полученные произведения\n",
        "def REDUCE(key, values):\n",
        "    (i, k) = key\n",
        "\n",
        "    k3 = (i, k)\n",
        "\n",
        "    v3 = 0\n",
        "    for j in range(J):\n",
        "        v3 += values[j]\n",
        "\n",
        "    yield (k3, v3)\n",
        "\n",
        "\n",
        "# try to set COMBINER=REDUCER and look at the number of values sent over the network\n",
        "partitioned_output = MapReduceDistributed(INPUTFORMAT, MAP, REDUCE, COMBINER=None)\n",
        "partitioned_output = [\n",
        "    (partition_id, list(partition)) for (partition_id, partition) in partitioned_output\n",
        "]\n",
        "\n",
        "# Соединение полученных произведений с разных вычислительных узлов\n",
        "solution = []\n",
        "for output_part in partitioned_output:\n",
        "    for element in output_part[1]:\n",
        "        solution += [element]\n",
        "\n",
        "np.allclose(reference_solution, asmatrix(solution))"
      ]
    },
    {
      "cell_type": "markdown",
      "metadata": {
        "id": "ZuSA2P9Db6UM"
      },
      "source": [
        "Обобщите предыдущее решение на случай, когда каждая матрица генерируется несколькими RECORDREADER-ами, и проверьте его работоспособность. Будет ли работать решение, если RECORDREADER-ы будут генерировать случайное подмножество элементов матрицы?"
      ]
    },
    {
      "cell_type": "code",
      "execution_count": 50,
      "metadata": {
        "colab": {
          "base_uri": "https://localhost:8080/"
        },
        "id": "ehN0FqRDcwU5",
        "outputId": "113cdc75-1400-43e0-c300-c09391b0d0b0"
      },
      "outputs": [
        {
          "name": "stdout",
          "output_type": "stream",
          "text": [
            "18 key-value pairs were sent over a network.\n",
            "24 key-value pairs were sent over a network.\n"
          ]
        },
        {
          "data": {
            "text/plain": [
              "True"
            ]
          },
          "execution_count": 50,
          "metadata": {},
          "output_type": "execute_result"
        }
      ],
      "source": [
        "from typing import List\n",
        "from typing import Iterator\n",
        "import numpy as np\n",
        "\n",
        "I = 2\n",
        "J = 3\n",
        "K = 4\n",
        "small_mat = np.random.rand(I, J)\n",
        "big_mat = np.random.rand(J, K)\n",
        "maps = 2\n",
        "reducers = 2\n",
        "\n",
        "def INPUTFORMAT():\n",
        "  def RECORDREADER(index, matrix, shift):\n",
        "    rows, cols = matrix.shape\n",
        "    for i in range(rows):\n",
        "      for j in range(cols):\n",
        "        yield ((index, i + shift, j), matrix[i, j])\n",
        "  split_size = int(np.ceil(len(small_mat) / maps))\n",
        "  for i in range(0, len(small_mat), split_size):\n",
        "    yield RECORDREADER(0, small_mat[i:i + split_size], i)\n",
        "  split_size = int(np.ceil(len(big_mat) / maps))\n",
        "  for i in range(0, len(big_mat), split_size):\n",
        "    yield RECORDREADER(1, big_mat[i:i + split_size], i)\n",
        "\n",
        "def MAP(k1, v1):\n",
        "  (matrix_index, row_index, col_index) = k1\n",
        "  if matrix_index == 0:\n",
        "    yield (col_index, (matrix_index, row_index, v1))\n",
        "  else:\n",
        "    yield (row_index, (matrix_index, col_index, v1))\n",
        "\n",
        "def REDUCE(key, values):\n",
        "  first_matrix = [el for el in values if el[0] == 0]\n",
        "  second_matrix = [el for el in values if el[0] == 1]\n",
        "  for first_el in first_matrix:\n",
        "    for second_el in second_matrix:\n",
        "      (_, first_index, first_value) = first_el\n",
        "      (_, second_index, second_value) = second_el\n",
        "      yield ((first_index, second_index), first_value * second_value)\n",
        "\n",
        "def MAP_IDENTITY(*args):\n",
        "  yield args\n",
        "\n",
        "def REDUCE_AGREGATE(key, values):\n",
        "  yield (key, sum(values))\n",
        "\n",
        "def GET_INPUTFORMAT(iterable):\n",
        "  def func():\n",
        "    for el in iterable:\n",
        "      yield el[1]\n",
        "  return func\n",
        "\n",
        "reference_solution = np.matmul(small_mat, big_mat)\n",
        "partitioned_output = MapReduceDistributed(INPUTFORMAT, MAP, REDUCE, COMBINER=None)\n",
        "partitioned_output = [(partition_id, list(partition)) for (partition_id, partition) in partitioned_output]\n",
        "solution = MapReduceDistributed(GET_INPUTFORMAT(partitioned_output), MAP_IDENTITY, REDUCE_AGREGATE, COMBINER=None)\n",
        "solution = [(partition_id, list(partition)) for (partition_id, partition) in solution]\n",
        "solution_unpacked = []\n",
        "for value in solution:\n",
        "  for v in value[1]:\n",
        "    solution_unpacked.append(v)\n",
        "\n",
        "def asmatrix(reduce_output):\n",
        "  reduce_output = list(reduce_output)\n",
        "  I = max(i for ((i, k), vw) in reduce_output) + 1\n",
        "  K = max(k for ((i, k), vw) in reduce_output) + 1\n",
        "  mat = np.empty(shape=(I, K))\n",
        "  for ((i, k), vw) in reduce_output:\n",
        "    mat[i, k] = vw\n",
        "  return mat\n",
        "\n",
        "np.allclose(reference_solution, asmatrix(solution_unpacked))"
      ]
    }
  ],
  "metadata": {
    "colab": {
      "collapsed_sections": [
        "82OvPKEiEqjc",
        "Vq3EWRIpwSiJ",
        "QtTFyqke3KGe",
        "BNhh5763w5Vn",
        "kNKYIeerx0nY",
        "ruZREYdi2o4O",
        "R7az-6DA6qr2",
        "h-jRAcYCAkkk",
        "CWYw_CpbbY3C",
        "gCJGx8IQ87xS"
      ],
      "provenance": []
    },
    "kernelspec": {
      "display_name": "Python 3",
      "name": "python3"
    }
  },
  "nbformat": 4,
  "nbformat_minor": 0
}
